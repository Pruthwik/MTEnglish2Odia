{
  "nbformat": 4,
  "nbformat_minor": 0,
  "metadata": {
    "colab": {
      "name": "attention is all you need en-od.ipynb",
      "provenance": [],
      "collapsed_sections": []
    },
    "kernelspec": {
      "name": "python3",
      "display_name": "Python 3"
    },
    "accelerator": "GPU"
  },
  "cells": [
    {
      "cell_type": "code",
      "metadata": {
        "id": "N4Bcf8ybPq28",
        "colab_type": "code",
        "colab": {}
      },
      "source": [
        "import torch\n",
        "import torch.nn as nn\n",
        "import torch.optim as optim\n",
        "\n",
        "import torchtext\n",
        "from torchtext.datasets import TranslationDataset, Multi30k\n",
        "from torchtext.data import Field, Iterator\n",
        "from torchtext.data import batch as ttbatch\n",
        "\n",
        "import matplotlib.pyplot as plt\n",
        "import matplotlib.ticker as ticker\n",
        "\n",
        "import numpy as np\n",
        "\n",
        "import os\n",
        "import random\n",
        "import math\n",
        "import time\n",
        "from tqdm import tqdm"
      ],
      "execution_count": 0,
      "outputs": []
    },
    {
      "cell_type": "code",
      "metadata": {
        "id": "yEV5SKDLRaTl",
        "colab_type": "code",
        "colab": {}
      },
      "source": [
        "# !pip install sentencepiece"
      ],
      "execution_count": 0,
      "outputs": []
    },
    {
      "cell_type": "code",
      "metadata": {
        "id": "94iZ4SE9RJty",
        "colab_type": "code",
        "colab": {}
      },
      "source": [
        "import sentencepiece as spm"
      ],
      "execution_count": 0,
      "outputs": []
    },
    {
      "cell_type": "code",
      "metadata": {
        "id": "_O7_l9hCR9vG",
        "colab_type": "code",
        "outputId": "3eb75c2b-1ef7-4f7a-9194-59e46fa5c2da",
        "colab": {
          "base_uri": "https://localhost:8080/",
          "height": 54
        }
      },
      "source": [
        "# mount google drive\n",
        "from google.colab import drive\n",
        "drive.mount('/content/gdrive')"
      ],
      "execution_count": 5,
      "outputs": [
        {
          "output_type": "stream",
          "text": [
            "Drive already mounted at /content/gdrive; to attempt to forcibly remount, call drive.mount(\"/content/gdrive\", force_remount=True).\n"
          ],
          "name": "stdout"
        }
      ]
    },
    {
      "cell_type": "code",
      "metadata": {
        "id": "tXJWWLMaPvl1",
        "colab_type": "code",
        "colab": {}
      },
      "source": [
        "# set random seed for reproducibility\n",
        "SEED = 1234\n",
        "random.seed(SEED)\n",
        "np.random.seed(SEED)\n",
        "torch.manual_seed(SEED)\n",
        "torch.cuda.manual_seed(SEED)"
      ],
      "execution_count": 0,
      "outputs": []
    },
    {
      "cell_type": "code",
      "metadata": {
        "id": "cAmMj1wg3UBQ",
        "colab_type": "code",
        "colab": {}
      },
      "source": [
        "import shutil\n",
        " \n",
        "def copyDirectory(src, dest):\n",
        "    try:\n",
        "        shutil.copytree(src, dest)\n",
        "    # Directories are the same\n",
        "    except shutil.Error as e:\n",
        "        print('Directory not copied. Error: %s' % e)\n",
        "    # Any error saying that the directory doesn't exist\n",
        "    except OSError as e:\n",
        "        print('Directory not copied. Error: %s' % e)"
      ],
      "execution_count": 0,
      "outputs": []
    },
    {
      "cell_type": "code",
      "metadata": {
        "id": "hc7JZ7HcSCgl",
        "colab_type": "code",
        "outputId": "7733bdfb-d27e-438e-d20e-ec0bb713c634",
        "colab": {
          "base_uri": "https://localhost:8080/",
          "height": 34
        }
      },
      "source": [
        "data_dir_drive = os.path.join('gdrive', 'My Drive', 'EN-OD translation', 'data')\n",
        "data_dir = 'data'\n",
        "copyDirectory(data_dir_drive, data_dir)"
      ],
      "execution_count": 8,
      "outputs": [
        {
          "output_type": "stream",
          "text": [
            "Directory not copied. Error: [Errno 17] File exists: 'data'\n"
          ],
          "name": "stdout"
        }
      ]
    },
    {
      "cell_type": "code",
      "metadata": {
        "id": "g7HuQ4DmWmIs",
        "colab_type": "code",
        "outputId": "6ed6f19b-1d8e-4cbd-e3c6-2a3c94aa821b",
        "colab": {
          "base_uri": "https://localhost:8080/",
          "height": 54
        }
      },
      "source": [
        "print(os.listdir(data_dir))"
      ],
      "execution_count": 9,
      "outputs": [
        {
          "output_type": "stream",
          "text": [
            "['bpe_od.model', 'corpus.od', 'bpe_od.vocab', 'dev.od', 'bpe_en.vocab', 'bpe_en.model', 'corpus.en', 'dev.en', 'test.od', 'test.en']\n"
          ],
          "name": "stdout"
        }
      ]
    },
    {
      "cell_type": "code",
      "metadata": {
        "id": "x2KL-2uHYz65",
        "colab_type": "code",
        "outputId": "e305e015-c909-4814-b37b-3b186ea7899f",
        "colab": {
          "base_uri": "https://localhost:8080/",
          "height": 190
        }
      },
      "source": [
        "!head data/corpus.od"
      ],
      "execution_count": 10,
      "outputs": [
        {
          "output_type": "stream",
          "text": [
            "ଭିଡିଓ ବିଜ୍ଞାପନ\r\n",
            "ଭିଡିଓ ବିଜ୍ଞାପନ\r\n",
            "ଗୋପନୀୟତା\r\n",
            "ଅପଠିତ\r\n",
            "ରିଚାର୍ଜ୍ ଦୋକାନ\r\n",
            "ପ୍ରିସେଟ୍‌ ଅଧ୍ୟୟନ\r\n",
            "ଡିଫଲ୍ଟ ବିଜ୍ଞାପନ\r\n",
            "ଗୁରୁତ୍ୱପୂର୍ଣ୍ଣ ବିଭାଜନ\r\n",
            "ବିଜ୍ଞାପନ ପରିଚାଳକ\r\n",
            "ଅନୁକୂଳ କରାଇବା\r\n"
          ],
          "name": "stdout"
        }
      ]
    },
    {
      "cell_type": "code",
      "metadata": {
        "id": "ZnkuiO2eZKPW",
        "colab_type": "code",
        "outputId": "deddaed6-4d14-4396-f5fa-219d546a3466",
        "colab": {
          "base_uri": "https://localhost:8080/",
          "height": 348
        }
      },
      "source": [
        "for filename in sorted(os.listdir(data_dir)):\n",
        "  print(f\"{filename:10}: {sum(1 for line in open(os.path.join(data_dir, filename), 'r', encoding='utf-8'))}\")"
      ],
      "execution_count": 11,
      "outputs": [
        {
          "output_type": "error",
          "ename": "UnicodeDecodeError",
          "evalue": "ignored",
          "traceback": [
            "\u001b[0;31m---------------------------------------------------------------------------\u001b[0m",
            "\u001b[0;31mUnicodeDecodeError\u001b[0m                        Traceback (most recent call last)",
            "\u001b[0;32m<ipython-input-11-787e96aa7cb4>\u001b[0m in \u001b[0;36m<module>\u001b[0;34m()\u001b[0m\n\u001b[1;32m      1\u001b[0m \u001b[0;32mfor\u001b[0m \u001b[0mfilename\u001b[0m \u001b[0;32min\u001b[0m \u001b[0msorted\u001b[0m\u001b[0;34m(\u001b[0m\u001b[0mos\u001b[0m\u001b[0;34m.\u001b[0m\u001b[0mlistdir\u001b[0m\u001b[0;34m(\u001b[0m\u001b[0mdata_dir\u001b[0m\u001b[0;34m)\u001b[0m\u001b[0;34m)\u001b[0m\u001b[0;34m:\u001b[0m\u001b[0;34m\u001b[0m\u001b[0;34m\u001b[0m\u001b[0m\n\u001b[0;32m----> 2\u001b[0;31m   \u001b[0mprint\u001b[0m\u001b[0;34m(\u001b[0m\u001b[0;34mf\"{filename:10}: {sum(1 for line in open(os.path.join(data_dir, filename), 'r', encoding='utf-8'))}\"\u001b[0m\u001b[0;34m)\u001b[0m\u001b[0;34m\u001b[0m\u001b[0;34m\u001b[0m\u001b[0m\n\u001b[0m",
            "\u001b[0;32m<ipython-input-11-787e96aa7cb4>\u001b[0m in \u001b[0;36m<genexpr>\u001b[0;34m(.0)\u001b[0m\n\u001b[1;32m      1\u001b[0m \u001b[0;32mfor\u001b[0m \u001b[0mfilename\u001b[0m \u001b[0;32min\u001b[0m \u001b[0msorted\u001b[0m\u001b[0;34m(\u001b[0m\u001b[0mos\u001b[0m\u001b[0;34m.\u001b[0m\u001b[0mlistdir\u001b[0m\u001b[0;34m(\u001b[0m\u001b[0mdata_dir\u001b[0m\u001b[0;34m)\u001b[0m\u001b[0;34m)\u001b[0m\u001b[0;34m:\u001b[0m\u001b[0;34m\u001b[0m\u001b[0;34m\u001b[0m\u001b[0m\n\u001b[0;32m----> 2\u001b[0;31m   \u001b[0mprint\u001b[0m\u001b[0;34m(\u001b[0m\u001b[0;34mf\"{filename:10}: {sum(1 for line in open(os.path.join(data_dir, filename), 'r', encoding='utf-8'))}\"\u001b[0m\u001b[0;34m)\u001b[0m\u001b[0;34m\u001b[0m\u001b[0;34m\u001b[0m\u001b[0m\n\u001b[0m",
            "\u001b[0;32m/usr/lib/python3.6/codecs.py\u001b[0m in \u001b[0;36mdecode\u001b[0;34m(self, input, final)\u001b[0m\n\u001b[1;32m    319\u001b[0m         \u001b[0;31m# decode input (taking the buffer into account)\u001b[0m\u001b[0;34m\u001b[0m\u001b[0;34m\u001b[0m\u001b[0;34m\u001b[0m\u001b[0m\n\u001b[1;32m    320\u001b[0m         \u001b[0mdata\u001b[0m \u001b[0;34m=\u001b[0m \u001b[0mself\u001b[0m\u001b[0;34m.\u001b[0m\u001b[0mbuffer\u001b[0m \u001b[0;34m+\u001b[0m \u001b[0minput\u001b[0m\u001b[0;34m\u001b[0m\u001b[0;34m\u001b[0m\u001b[0m\n\u001b[0;32m--> 321\u001b[0;31m         \u001b[0;34m(\u001b[0m\u001b[0mresult\u001b[0m\u001b[0;34m,\u001b[0m \u001b[0mconsumed\u001b[0m\u001b[0;34m)\u001b[0m \u001b[0;34m=\u001b[0m \u001b[0mself\u001b[0m\u001b[0;34m.\u001b[0m\u001b[0m_buffer_decode\u001b[0m\u001b[0;34m(\u001b[0m\u001b[0mdata\u001b[0m\u001b[0;34m,\u001b[0m \u001b[0mself\u001b[0m\u001b[0;34m.\u001b[0m\u001b[0merrors\u001b[0m\u001b[0;34m,\u001b[0m \u001b[0mfinal\u001b[0m\u001b[0;34m)\u001b[0m\u001b[0;34m\u001b[0m\u001b[0;34m\u001b[0m\u001b[0m\n\u001b[0m\u001b[1;32m    322\u001b[0m         \u001b[0;31m# keep undecoded input until the next call\u001b[0m\u001b[0;34m\u001b[0m\u001b[0;34m\u001b[0m\u001b[0;34m\u001b[0m\u001b[0m\n\u001b[1;32m    323\u001b[0m         \u001b[0mself\u001b[0m\u001b[0;34m.\u001b[0m\u001b[0mbuffer\u001b[0m \u001b[0;34m=\u001b[0m \u001b[0mdata\u001b[0m\u001b[0;34m[\u001b[0m\u001b[0mconsumed\u001b[0m\u001b[0;34m:\u001b[0m\u001b[0;34m]\u001b[0m\u001b[0;34m\u001b[0m\u001b[0;34m\u001b[0m\u001b[0m\n",
            "\u001b[0;31mUnicodeDecodeError\u001b[0m: 'utf-8' codec can't decode byte 0x80 in position 57: invalid start byte"
          ]
        }
      ]
    },
    {
      "cell_type": "code",
      "metadata": {
        "id": "kci5fymVRhks",
        "colab_type": "code",
        "outputId": "ff618e35-2927-459f-97f9-17d19d99aa5e",
        "colab": {
          "base_uri": "https://localhost:8080/",
          "height": 34
        }
      },
      "source": [
        "spm.SentencePieceTrainer.train(f'--input={data_dir}/corpus.en --model_prefix={data_dir}/bpe_en --vocab_size=8000 --model_type=bpe')\n",
        "spm.SentencePieceTrainer.train(f'--input={data_dir}/corpus.od --model_prefix={data_dir}/bpe_od --vocab_size=8000 --model_type=bpe')\n",
        "sp_bpe_src = spm.SentencePieceProcessor()\n",
        "sp_bpe_trg = spm.SentencePieceProcessor()\n",
        "sp_bpe_src.load(f'{data_dir}/bpe_en.model')\n",
        "sp_bpe_trg.load(f'{data_dir}/bpe_od.model')"
      ],
      "execution_count": 12,
      "outputs": [
        {
          "output_type": "execute_result",
          "data": {
            "text/plain": [
              "True"
            ]
          },
          "metadata": {
            "tags": []
          },
          "execution_count": 12
        }
      ]
    },
    {
      "cell_type": "code",
      "metadata": {
        "id": "9Tds_DCazenP",
        "colab_type": "code",
        "outputId": "9bf0ed51-c2c1-454f-949f-dc3d4e6fd95d",
        "colab": {
          "base_uri": "https://localhost:8080/",
          "height": 54
        }
      },
      "source": [
        "print(os.listdir(data_dir))"
      ],
      "execution_count": 13,
      "outputs": [
        {
          "output_type": "stream",
          "text": [
            "['bpe_od.model', 'corpus.od', 'bpe_od.vocab', 'dev.od', 'bpe_en.vocab', 'bpe_en.model', 'corpus.en', 'dev.en', 'test.od', 'test.en']\n"
          ],
          "name": "stdout"
        }
      ]
    },
    {
      "cell_type": "code",
      "metadata": {
        "id": "R44OVVKMaCHv",
        "colab_type": "code",
        "outputId": "5c5e9f6b-1c70-4e51-9870-086ddbf9cc52",
        "colab": {
          "base_uri": "https://localhost:8080/",
          "height": 34
        }
      },
      "source": [
        "!wc -l data/bpe_en.vocab"
      ],
      "execution_count": 14,
      "outputs": [
        {
          "output_type": "stream",
          "text": [
            "8000 data/bpe_en.vocab\n"
          ],
          "name": "stdout"
        }
      ]
    },
    {
      "cell_type": "code",
      "metadata": {
        "id": "9Ev9R01mu3XE",
        "colab_type": "code",
        "outputId": "82f8029d-992b-4ec7-d0ab-c6db30996d2b",
        "colab": {
          "base_uri": "https://localhost:8080/",
          "height": 34
        }
      },
      "source": [
        "!wc -l data/bpe_od.vocab"
      ],
      "execution_count": 15,
      "outputs": [
        {
          "output_type": "stream",
          "text": [
            "8000 data/bpe_od.vocab\n"
          ],
          "name": "stdout"
        }
      ]
    },
    {
      "cell_type": "code",
      "metadata": {
        "id": "MAazHs4sRIe9",
        "colab_type": "code",
        "colab": {}
      },
      "source": [
        "SRC = Field(tokenize = sp_bpe_src.encode_as_pieces, \n",
        "            init_token = '<sos>', \n",
        "            eos_token = '<eos>', \n",
        "            lower = False,\n",
        "            batch_first = True)\n",
        "\n",
        "TRG = Field(tokenize = sp_bpe_trg.encode_as_pieces,\n",
        "            init_token = '<sos>', \n",
        "            eos_token = '<eos>',\n",
        "            lower = False,\n",
        "            batch_first = True)"
      ],
      "execution_count": 0,
      "outputs": []
    },
    {
      "cell_type": "code",
      "metadata": {
        "id": "Oq14ubIZRLFT",
        "colab_type": "code",
        "colab": {}
      },
      "source": [
        "train_data, valid_data, test_data = TranslationDataset.splits(\n",
        "    path=data_dir,\n",
        "    exts=('.en', '.od'),\n",
        "    train='corpus',\n",
        "    validation='dev',\n",
        "    test='test',\n",
        "    fields=(SRC, TRG)\n",
        "  )"
      ],
      "execution_count": 0,
      "outputs": []
    },
    {
      "cell_type": "code",
      "metadata": {
        "id": "jS_SzuFIIN8y",
        "colab_type": "code",
        "colab": {}
      },
      "source": [
        "for dataset in [train_data, valid_data, test_data]:\n",
        "  for sample in dataset:\n",
        "    assert len(sample.src) <= 1000 and len(sample.trg) <=1000, 'at least one sample has > 1000 tokens'"
      ],
      "execution_count": 0,
      "outputs": []
    },
    {
      "cell_type": "code",
      "metadata": {
        "id": "ga9eew8wRNZt",
        "colab_type": "code",
        "colab": {}
      },
      "source": [
        "SRC.build_vocab(train_data, min_freq=1)\n",
        "TRG.build_vocab(train_data, min_freq=1)"
      ],
      "execution_count": 0,
      "outputs": []
    },
    {
      "cell_type": "code",
      "metadata": {
        "id": "J_QQl336abVm",
        "colab_type": "code",
        "outputId": "cb2e4c91-90a5-4ebb-934e-90de80a1180d",
        "colab": {
          "base_uri": "https://localhost:8080/",
          "height": 69
        }
      },
      "source": [
        "print(f'sizes of vocab:\\nen = {len(SRC.vocab)}\\nod = {len(TRG.vocab)}')"
      ],
      "execution_count": 20,
      "outputs": [
        {
          "output_type": "stream",
          "text": [
            "sizes of vocab:\n",
            "en = 8352\n",
            "od = 8183\n"
          ],
          "name": "stdout"
        }
      ]
    },
    {
      "cell_type": "code",
      "metadata": {
        "id": "sMmccLbhRWKD",
        "colab_type": "code",
        "colab": {}
      },
      "source": [
        "device = torch.device('cuda' if torch.cuda.is_available() else 'cpu')"
      ],
      "execution_count": 0,
      "outputs": []
    },
    {
      "cell_type": "code",
      "metadata": {
        "id": "aLUL0tb76mLf",
        "colab_type": "code",
        "colab": {}
      },
      "source": [
        "# global variables\n",
        "global MAX_SRC_IN_BATCH, MAX_TRG_IN_BATCH\n",
        "\n",
        "\n",
        "# batch size function for MinPadIterator\n",
        "def batch_size_fn(new, count, sofar):\n",
        "    \"\"\"Keep augmenting batch and calculate total number of tokens + padding.\"\"\"\n",
        "    global MAX_SRC_IN_BATCH, MAX_TRG_IN_BATCH\n",
        "    if count == 1:\n",
        "        MAX_SRC_IN_BATCH = 0\n",
        "        MAX_TRG_IN_BATCH = 0\n",
        "    MAX_SRC_IN_BATCH = max(MAX_SRC_IN_BATCH, len(new.src))\n",
        "    MAX_TRG_IN_BATCH = max(MAX_TRG_IN_BATCH, len(new.trg) + 2)\n",
        "    src_elements = count * MAX_SRC_IN_BATCH\n",
        "    trg_elements = count * MAX_TRG_IN_BATCH\n",
        "    return max(src_elements, trg_elements)\n",
        "\n",
        "\n",
        "# iterator to minimize padding\n",
        "class MinPadIterator(Iterator):\n",
        "    def create_batches(self):\n",
        "\n",
        "        def pool(d, random_shuffler):\n",
        "            for p in ttbatch(d, self.batch_size * 100):\n",
        "                p_batch = ttbatch(\n",
        "                    sorted(p, key=self.sort_key),\n",
        "                    self.batch_size, self.batch_size_fn)\n",
        "                for b in random_shuffler(list(p_batch)):\n",
        "                    yield b\n",
        "\n",
        "        self.batches = pool(self.data(), self.random_shuffler)"
      ],
      "execution_count": 0,
      "outputs": []
    },
    {
      "cell_type": "code",
      "metadata": {
        "id": "asj16KOLRcJM",
        "colab_type": "code",
        "colab": {}
      },
      "source": [
        "BATCH_SIZE = 8192\n",
        "\n",
        "# train_iterator, valid_iterator, test_iterator = BucketIterator.splits(\n",
        "#     (train_data, valid_data, test_data), \n",
        "#      batch_size = BATCH_SIZE,\n",
        "#      device = device)\n",
        "\n",
        "train_iterator = MinPadIterator(\n",
        "      train_data,\n",
        "      batch_size=BATCH_SIZE,\n",
        "      shuffle=True,\n",
        "      sort_key=lambda x: (len(x.src), len(x.trg)),\n",
        "      batch_size_fn=batch_size_fn,\n",
        "      device=device\n",
        "  )\n",
        "valid_iterator = MinPadIterator(\n",
        "      valid_data,\n",
        "      batch_size=BATCH_SIZE,\n",
        "      shuffle=False,\n",
        "      sort_key=lambda x: (len(x.src), len(x.trg)),\n",
        "      batch_size_fn=batch_size_fn,\n",
        "      device=device\n",
        "  )\n",
        "test_iterator = MinPadIterator(\n",
        "      test_data,\n",
        "      batch_size=BATCH_SIZE,\n",
        "      shuffle=False,\n",
        "      sort_key=lambda x: (len(x.src), len(x.trg)),\n",
        "      batch_size_fn=batch_size_fn,\n",
        "      device=device\n",
        "  )"
      ],
      "execution_count": 0,
      "outputs": []
    },
    {
      "cell_type": "code",
      "metadata": {
        "id": "J7YC9keZRs4L",
        "colab_type": "code",
        "colab": {}
      },
      "source": [
        "class Encoder(nn.Module):\n",
        "    def __init__(self, \n",
        "                 input_dim, \n",
        "                 hid_dim, \n",
        "                 n_layers, \n",
        "                 n_heads, \n",
        "                 pf_dim, \n",
        "                 encoder_layer, \n",
        "                 self_attention_layer, \n",
        "                 positionwise_feedforward_layer, \n",
        "                 dropout, \n",
        "                 device):\n",
        "        super().__init__()\n",
        "\n",
        "        self.device = device\n",
        "        \n",
        "        self.tok_embedding = nn.Embedding(input_dim, hid_dim)\n",
        "        self.pos_embedding = nn.Embedding(1000, hid_dim)\n",
        "        \n",
        "        self.layers = nn.ModuleList([encoder_layer(hid_dim, \n",
        "                                                   n_heads, \n",
        "                                                   pf_dim, \n",
        "                                                   self_attention_layer, \n",
        "                                                   positionwise_feedforward_layer, \n",
        "                                                   dropout, \n",
        "                                                   device) \n",
        "                                     for _ in range(n_layers)])\n",
        "        \n",
        "        self.dropout = nn.Dropout(dropout)\n",
        "        \n",
        "        self.scale = torch.sqrt(torch.FloatTensor([hid_dim])).to(device)\n",
        "        \n",
        "    def forward(self, src, src_mask):\n",
        "        \n",
        "        #src = [batch size, src len]\n",
        "        #src_mask = [batch size, src len]\n",
        "        \n",
        "        batch_size = src.shape[0]\n",
        "        src_len = src.shape[1]\n",
        "        \n",
        "        pos = torch.arange(0, src_len).unsqueeze(0).repeat(batch_size, 1).to(self.device)\n",
        "        \n",
        "        #pos = [batch size, src len]\n",
        "        \n",
        "        src = self.dropout((self.tok_embedding(src) * self.scale) + self.pos_embedding(pos))\n",
        "        \n",
        "        #src = [batch size, src len, hid dim]\n",
        "        \n",
        "        for layer in self.layers:\n",
        "            src = layer(src, src_mask)\n",
        "            \n",
        "        #src = [batch size, src len, hid dim]\n",
        "            \n",
        "        return src"
      ],
      "execution_count": 0,
      "outputs": []
    },
    {
      "cell_type": "code",
      "metadata": {
        "id": "iHBddoOCR0Y8",
        "colab_type": "code",
        "colab": {}
      },
      "source": [
        "class EncoderLayer(nn.Module):\n",
        "    def __init__(self, \n",
        "                 hid_dim, \n",
        "                 n_heads, \n",
        "                 pf_dim, \n",
        "                 self_attention_layer, \n",
        "                 positionwise_feedforward_layer, \n",
        "                 dropout, \n",
        "                 device):\n",
        "        super().__init__()\n",
        "        \n",
        "        self.layer_norm = nn.LayerNorm(hid_dim)\n",
        "        self.self_attention = self_attention_layer(hid_dim, n_heads, dropout, device)\n",
        "        self.positionwise_feedforward = positionwise_feedforward_layer(hid_dim, \n",
        "                                                                       pf_dim, \n",
        "                                                                       dropout)\n",
        "        self.dropout = nn.Dropout(dropout)\n",
        "        \n",
        "    def forward(self, src, src_mask):\n",
        "        \n",
        "        #src = [batch size, src len, hid dim]\n",
        "        #src_mask = [batch size, src len]\n",
        "                \n",
        "        #self attention\n",
        "        _src, _ = self.self_attention(src, src, src, src_mask)\n",
        "        \n",
        "        #dropout, residual connection and layer norm\n",
        "        src = self.layer_norm(src + self.dropout(_src))\n",
        "        \n",
        "        #src = [batch size, src len, hid dim]\n",
        "        \n",
        "        #positionwise feedforward, dropout, residual and layer norm\n",
        "        src = self.layer_norm(src + self.dropout(self.positionwise_feedforward(src)))\n",
        "        \n",
        "        #src = [batch size, src len, hid dim]\n",
        "        \n",
        "        return src"
      ],
      "execution_count": 0,
      "outputs": []
    },
    {
      "cell_type": "code",
      "metadata": {
        "id": "B-GJPOErR5Jk",
        "colab_type": "code",
        "colab": {}
      },
      "source": [
        "class SelfAttentionLayer(nn.Module):\n",
        "    def __init__(self, hid_dim, n_heads, dropout, device):\n",
        "        super().__init__()\n",
        "        \n",
        "        assert hid_dim % n_heads == 0\n",
        "        \n",
        "        self.hid_dim = hid_dim\n",
        "        self.n_heads = n_heads\n",
        "        self.head_dim = hid_dim // n_heads\n",
        "        \n",
        "        self.fc_q = nn.Linear(hid_dim, hid_dim)\n",
        "        self.fc_k = nn.Linear(hid_dim, hid_dim)\n",
        "        self.fc_v = nn.Linear(hid_dim, hid_dim)\n",
        "        \n",
        "        self.fc = nn.Linear(hid_dim, hid_dim)\n",
        "        \n",
        "        self.dropout = nn.Dropout(dropout)\n",
        "        \n",
        "        self.scale = torch.sqrt(torch.FloatTensor([self.head_dim])).to(device)\n",
        "        \n",
        "    def forward(self, query, key, value, mask = None):\n",
        "        \n",
        "        batch_size = query.shape[0]\n",
        "        \n",
        "        #query = [batch size, query len, hid dim]\n",
        "        #key = [batch size, key len, hid dim]\n",
        "        #value = [batch size, value len, hid dim]\n",
        "                \n",
        "        Q = self.fc_q(query)\n",
        "        K = self.fc_k(key)\n",
        "        V = self.fc_v(value)\n",
        "        \n",
        "        #Q = [batch size, query len, hid dim]\n",
        "        #K = [batch size, key len, hid dim]\n",
        "        #V = [batch size, value len, hid dim]\n",
        "                \n",
        "        Q = Q.view(batch_size, -1, self.n_heads, self.head_dim).permute(0, 2, 1, 3)\n",
        "        K = K.view(batch_size, -1, self.n_heads, self.head_dim).permute(0, 2, 1, 3)\n",
        "        V = V.view(batch_size, -1, self.n_heads, self.head_dim).permute(0, 2, 1, 3)\n",
        "        \n",
        "        #Q = [batch size, n heads, query len, head dim]\n",
        "        #K = [batch size, n heads, key len, head dim]\n",
        "        #V = [batch size, n heads, value len, head dim]\n",
        "                \n",
        "        energy = torch.matmul(Q, K.permute(0, 1, 3, 2)) / self.scale\n",
        "        \n",
        "        #energy = [batch size, n heads, seq len, seq len]\n",
        "        \n",
        "        if mask is not None:\n",
        "            energy = energy.masked_fill(mask == 0, -1e10)\n",
        "        \n",
        "        attention = torch.softmax(energy, dim = -1)\n",
        "                \n",
        "        #attention = [batch size, n heads, query len, key len]\n",
        "        \n",
        "        x = torch.matmul(self.dropout(attention), V)\n",
        "        \n",
        "        #x = [batch size, n heads, seq len, head dim]\n",
        "        \n",
        "        x = x.permute(0, 2, 1, 3).contiguous()\n",
        "        \n",
        "        #x = [batch size, seq len, n heads, head dim]\n",
        "        \n",
        "        x = x.view(batch_size, -1, self.hid_dim)\n",
        "        \n",
        "        #x = [batch size, seq len, hid dim]\n",
        "        \n",
        "        x = self.fc(x)\n",
        "        \n",
        "        #x = [batch size, seq len, hid dim]\n",
        "        \n",
        "        return x, attention"
      ],
      "execution_count": 0,
      "outputs": []
    },
    {
      "cell_type": "code",
      "metadata": {
        "id": "e6-BCYZWR7dm",
        "colab_type": "code",
        "colab": {}
      },
      "source": [
        "class PositionwiseFeedforwardLayer(nn.Module):\n",
        "    def __init__(self, hid_dim, pf_dim, dropout):\n",
        "        super().__init__()\n",
        "        \n",
        "        self.fc_1 = nn.Linear(hid_dim, pf_dim)\n",
        "        self.fc_2 = nn.Linear(pf_dim, hid_dim)\n",
        "        \n",
        "        self.dropout = nn.Dropout(dropout)\n",
        "        \n",
        "    def forward(self, x):\n",
        "        \n",
        "        #x = [batch size, seq len, hid dim]\n",
        "        \n",
        "        x = self.dropout(torch.relu(self.fc_1(x)))\n",
        "        \n",
        "        #x = [batch size, seq len, pf dim]\n",
        "        \n",
        "        x = self.fc_2(x)\n",
        "        \n",
        "        #x = [batch size, seq len, hid dim]\n",
        "        \n",
        "        return x"
      ],
      "execution_count": 0,
      "outputs": []
    },
    {
      "cell_type": "code",
      "metadata": {
        "id": "LudEW94vR9gb",
        "colab_type": "code",
        "colab": {}
      },
      "source": [
        "class Decoder(nn.Module):\n",
        "    def __init__(self, \n",
        "                 output_dim, \n",
        "                 hid_dim, \n",
        "                 n_layers, \n",
        "                 n_heads, \n",
        "                 pf_dim, \n",
        "                 decoder_layer, \n",
        "                 self_attention_layer, \n",
        "                 positionwise_feedforward_layer, \n",
        "                 dropout, \n",
        "                 device):\n",
        "        super().__init__()\n",
        "        \n",
        "        self.device = device\n",
        "        \n",
        "        self.tok_embedding = nn.Embedding(output_dim, hid_dim)\n",
        "        self.pos_embedding = nn.Embedding(1000, hid_dim)\n",
        "        \n",
        "        self.layers = nn.ModuleList([decoder_layer(hid_dim, \n",
        "                                                   n_heads, \n",
        "                                                   pf_dim, \n",
        "                                                   self_attention_layer, \n",
        "                                                   positionwise_feedforward_layer, \n",
        "                                                   dropout, \n",
        "                                                   device)\n",
        "                                     for _ in range(n_layers)])\n",
        "        \n",
        "        self.fc_out = nn.Linear(hid_dim, output_dim)\n",
        "        \n",
        "        self.dropout = nn.Dropout(dropout)\n",
        "        \n",
        "        self.scale = torch.sqrt(torch.FloatTensor([hid_dim])).to(device)\n",
        "        \n",
        "    def forward(self, trg, enc_src, trg_mask, src_mask):\n",
        "        \n",
        "        #trg = [batch size, trg len]\n",
        "        #enc_src = [batch size, src len, hid dim]\n",
        "        #trg_mask = [batch size, trg len]\n",
        "        #src_mask = [batch size, src len]\n",
        "                \n",
        "        batch_size = trg.shape[0]\n",
        "        trg_len = trg.shape[1]\n",
        "        \n",
        "        pos = torch.arange(0, trg_len).unsqueeze(0).repeat(batch_size, 1).to(self.device)\n",
        "                            \n",
        "        #pos = [batch size, trg len]\n",
        "            \n",
        "        trg = self.dropout((self.tok_embedding(trg) * self.scale) + self.pos_embedding(pos))\n",
        "                \n",
        "        #trg = [batch size, trg len, hid dim]\n",
        "        \n",
        "        for layer in self.layers:\n",
        "            trg, attention = layer(trg, enc_src, trg_mask, src_mask)\n",
        "        \n",
        "        #trg = [batch size, trg len, hid dim]\n",
        "        #attention = [batch size, n heads, trg len, src len]\n",
        "        \n",
        "        output = self.fc_out(trg)\n",
        "        \n",
        "        #output = [batch size, trg len, output dim]\n",
        "            \n",
        "        return output, attention"
      ],
      "execution_count": 0,
      "outputs": []
    },
    {
      "cell_type": "code",
      "metadata": {
        "id": "cm1UxW4gSCts",
        "colab_type": "code",
        "colab": {}
      },
      "source": [
        "class DecoderLayer(nn.Module):\n",
        "    def __init__(self, \n",
        "                 hid_dim, \n",
        "                 n_heads, \n",
        "                 pf_dim, \n",
        "                 self_attention_layer, \n",
        "                 positionwise_feedforward_layer, \n",
        "                 dropout, \n",
        "                 device):\n",
        "        super().__init__()\n",
        "        \n",
        "        self.layer_norm = nn.LayerNorm(hid_dim)\n",
        "        self.self_attention = self_attention_layer(hid_dim, n_heads, dropout, device)\n",
        "        self.encoder_attention = self_attention_layer(hid_dim, n_heads, dropout, device)\n",
        "        self.positionwise_feedforward = positionwise_feedforward_layer(hid_dim, \n",
        "                                                                       pf_dim, \n",
        "                                                                       dropout)\n",
        "        self.dropout = nn.Dropout(dropout)\n",
        "        \n",
        "    def forward(self, trg, enc_src, trg_mask, src_mask):\n",
        "        \n",
        "        #trg = [batch size, trg len, hid dim]\n",
        "        #enc_src = [batch size, src len, hid dim]\n",
        "        #trg_mask = [batch size, trg len]\n",
        "        #src_mask = [batch size, src len]\n",
        "        \n",
        "        #self attention\n",
        "        _trg, _ = self.self_attention(trg, trg, trg, trg_mask)\n",
        "        \n",
        "        #dropout, residual connection and layer norm\n",
        "        trg = self.layer_norm(trg + self.dropout(_trg))\n",
        "            \n",
        "        #trg = [batch size, trg len, hid dim]\n",
        "            \n",
        "        #encoder attention\n",
        "        _trg, attention = self.encoder_attention(trg, enc_src, enc_src, src_mask)\n",
        "        \n",
        "        #dropout, residual connection and layer norm\n",
        "        trg = self.layer_norm(trg + self.dropout(_trg))\n",
        "                    \n",
        "        #trg = [batch size, trg len, hid dim]\n",
        "        \n",
        "        #positionwise feedforward, dropout, residual and layer norm\n",
        "        trg = self.layer_norm(trg + self.dropout(self.positionwise_feedforward(trg)))\n",
        "        \n",
        "        #trg = [batch size, trg len, hid dim]\n",
        "        #attention = [batch size, n heads, trg len, src len]\n",
        "        \n",
        "        return trg, attention"
      ],
      "execution_count": 0,
      "outputs": []
    },
    {
      "cell_type": "code",
      "metadata": {
        "id": "si-zu6RPSE2f",
        "colab_type": "code",
        "colab": {}
      },
      "source": [
        "class Seq2Seq(nn.Module):\n",
        "    def __init__(self, \n",
        "                 encoder, \n",
        "                 decoder, \n",
        "                 src_pad_idx, \n",
        "                 trg_pad_idx, \n",
        "                 trg_sos_idx, \n",
        "                 device):\n",
        "        super().__init__()\n",
        "        \n",
        "        self.encoder = encoder\n",
        "        self.decoder = decoder\n",
        "        self.src_pad_idx = src_pad_idx\n",
        "        self.trg_pad_idx = trg_pad_idx\n",
        "        self.trg_sos_idx = trg_sos_idx\n",
        "        self.device = device\n",
        "        \n",
        "    def make_src_mask(self, src):\n",
        "        \n",
        "        #src = [batch size, src len]\n",
        "        \n",
        "        src_mask = (src != self.src_pad_idx).unsqueeze(1).unsqueeze(2)\n",
        "\n",
        "        #src_mask = [batch size, 1, 1, src len]\n",
        "\n",
        "        return src_mask\n",
        "    \n",
        "    def make_trg_mask(self, trg):\n",
        "        \n",
        "        #trg = [batch size, trg len]\n",
        "        \n",
        "        trg_pad_mask = (trg != self.trg_pad_idx).unsqueeze(1).unsqueeze(3)\n",
        "        \n",
        "        #trg_pad_mask = [batch size, 1, trg len, 1]\n",
        "        \n",
        "        trg_len = trg.shape[1]\n",
        "        \n",
        "        trg_sub_mask = torch.tril(torch.ones((trg_len, trg_len), device = self.device)).bool()\n",
        "        \n",
        "        #trg_sub_mask = [trg len, trg len]\n",
        "            \n",
        "        trg_mask = trg_pad_mask & trg_sub_mask\n",
        "        \n",
        "        #trg_mask = [batch size, 1, trg len, trg len]\n",
        "        \n",
        "        return trg_mask\n",
        "\n",
        "    def forward(self, src, trg):\n",
        "        \n",
        "        #src = [batch size, src len]\n",
        "        #trg = [batch size, trg len]\n",
        "                \n",
        "        src_mask = self.make_src_mask(src)\n",
        "        trg_mask = self.make_trg_mask(trg)\n",
        "        \n",
        "        #src_mask = [batch size, 1, 1, src len]\n",
        "        #trg_mask = [batch size, 1, trg len, trg len]\n",
        "        \n",
        "        enc_src = self.encoder(src, src_mask)\n",
        "        \n",
        "        #enc_src = [batch size, src len, hid dim]\n",
        "                \n",
        "        output, attention = self.decoder(trg, enc_src, trg_mask, src_mask)\n",
        "        \n",
        "        #output = [batch size, trg len, output dim]\n",
        "        #attention = [batch size, n heads, trg len, src len]\n",
        "        \n",
        "        return output, attention\n"
      ],
      "execution_count": 0,
      "outputs": []
    },
    {
      "cell_type": "code",
      "metadata": {
        "id": "4iQCJaWWSHuz",
        "colab_type": "code",
        "colab": {}
      },
      "source": [
        "INPUT_DIM = len(SRC.vocab)\n",
        "OUTPUT_DIM = len(TRG.vocab)\n",
        "HID_DIM = 128\n",
        "ENC_LAYERS = 3\n",
        "DEC_LAYERS = 3\n",
        "ENC_HEADS = 8\n",
        "DEC_HEADS = 8\n",
        "ENC_PF_DIM = 256\n",
        "DEC_PF_DIM = 256\n",
        "ENC_DROPOUT = 0.1\n",
        "DEC_DROPOUT = 0.1\n",
        "\n",
        "enc = Encoder(INPUT_DIM, \n",
        "              HID_DIM, \n",
        "              ENC_LAYERS, \n",
        "              ENC_HEADS, \n",
        "              ENC_PF_DIM, \n",
        "              EncoderLayer, \n",
        "              SelfAttentionLayer, \n",
        "              PositionwiseFeedforwardLayer, \n",
        "              ENC_DROPOUT, \n",
        "              device)\n",
        "\n",
        "dec = Decoder(OUTPUT_DIM, \n",
        "              HID_DIM, \n",
        "              DEC_LAYERS, \n",
        "              DEC_HEADS, \n",
        "              DEC_PF_DIM, \n",
        "              DecoderLayer, \n",
        "              SelfAttentionLayer, \n",
        "              PositionwiseFeedforwardLayer, \n",
        "              DEC_DROPOUT, \n",
        "              device)"
      ],
      "execution_count": 0,
      "outputs": []
    },
    {
      "cell_type": "code",
      "metadata": {
        "id": "wKtAZxchSXUQ",
        "colab_type": "code",
        "colab": {}
      },
      "source": [
        "SRC_PAD_IDX = SRC.vocab.stoi[SRC.pad_token]\n",
        "TRG_PAD_IDX = TRG.vocab.stoi[TRG.pad_token]\n",
        "TRG_SOS_IDX = TRG.vocab.stoi[TRG.init_token]\n",
        "\n",
        "model = Seq2Seq(enc, dec, SRC_PAD_IDX, TRG_PAD_IDX, TRG_SOS_IDX, device).to(device)"
      ],
      "execution_count": 0,
      "outputs": []
    },
    {
      "cell_type": "code",
      "metadata": {
        "id": "Ofysc-4SwXTx",
        "colab_type": "code",
        "outputId": "9d1c2b3b-4df3-4357-dfdf-aebb080a3133",
        "colab": {
          "base_uri": "https://localhost:8080/",
          "height": 1000
        }
      },
      "source": [
        "model"
      ],
      "execution_count": 33,
      "outputs": [
        {
          "output_type": "execute_result",
          "data": {
            "text/plain": [
              "Seq2Seq(\n",
              "  (encoder): Encoder(\n",
              "    (tok_embedding): Embedding(8352, 128)\n",
              "    (pos_embedding): Embedding(1000, 128)\n",
              "    (layers): ModuleList(\n",
              "      (0): EncoderLayer(\n",
              "        (layer_norm): LayerNorm((128,), eps=1e-05, elementwise_affine=True)\n",
              "        (self_attention): SelfAttentionLayer(\n",
              "          (fc_q): Linear(in_features=128, out_features=128, bias=True)\n",
              "          (fc_k): Linear(in_features=128, out_features=128, bias=True)\n",
              "          (fc_v): Linear(in_features=128, out_features=128, bias=True)\n",
              "          (fc): Linear(in_features=128, out_features=128, bias=True)\n",
              "          (dropout): Dropout(p=0.1, inplace=False)\n",
              "        )\n",
              "        (positionwise_feedforward): PositionwiseFeedforwardLayer(\n",
              "          (fc_1): Linear(in_features=128, out_features=256, bias=True)\n",
              "          (fc_2): Linear(in_features=256, out_features=128, bias=True)\n",
              "          (dropout): Dropout(p=0.1, inplace=False)\n",
              "        )\n",
              "        (dropout): Dropout(p=0.1, inplace=False)\n",
              "      )\n",
              "      (1): EncoderLayer(\n",
              "        (layer_norm): LayerNorm((128,), eps=1e-05, elementwise_affine=True)\n",
              "        (self_attention): SelfAttentionLayer(\n",
              "          (fc_q): Linear(in_features=128, out_features=128, bias=True)\n",
              "          (fc_k): Linear(in_features=128, out_features=128, bias=True)\n",
              "          (fc_v): Linear(in_features=128, out_features=128, bias=True)\n",
              "          (fc): Linear(in_features=128, out_features=128, bias=True)\n",
              "          (dropout): Dropout(p=0.1, inplace=False)\n",
              "        )\n",
              "        (positionwise_feedforward): PositionwiseFeedforwardLayer(\n",
              "          (fc_1): Linear(in_features=128, out_features=256, bias=True)\n",
              "          (fc_2): Linear(in_features=256, out_features=128, bias=True)\n",
              "          (dropout): Dropout(p=0.1, inplace=False)\n",
              "        )\n",
              "        (dropout): Dropout(p=0.1, inplace=False)\n",
              "      )\n",
              "      (2): EncoderLayer(\n",
              "        (layer_norm): LayerNorm((128,), eps=1e-05, elementwise_affine=True)\n",
              "        (self_attention): SelfAttentionLayer(\n",
              "          (fc_q): Linear(in_features=128, out_features=128, bias=True)\n",
              "          (fc_k): Linear(in_features=128, out_features=128, bias=True)\n",
              "          (fc_v): Linear(in_features=128, out_features=128, bias=True)\n",
              "          (fc): Linear(in_features=128, out_features=128, bias=True)\n",
              "          (dropout): Dropout(p=0.1, inplace=False)\n",
              "        )\n",
              "        (positionwise_feedforward): PositionwiseFeedforwardLayer(\n",
              "          (fc_1): Linear(in_features=128, out_features=256, bias=True)\n",
              "          (fc_2): Linear(in_features=256, out_features=128, bias=True)\n",
              "          (dropout): Dropout(p=0.1, inplace=False)\n",
              "        )\n",
              "        (dropout): Dropout(p=0.1, inplace=False)\n",
              "      )\n",
              "    )\n",
              "    (dropout): Dropout(p=0.1, inplace=False)\n",
              "  )\n",
              "  (decoder): Decoder(\n",
              "    (tok_embedding): Embedding(8183, 128)\n",
              "    (pos_embedding): Embedding(1000, 128)\n",
              "    (layers): ModuleList(\n",
              "      (0): DecoderLayer(\n",
              "        (layer_norm): LayerNorm((128,), eps=1e-05, elementwise_affine=True)\n",
              "        (self_attention): SelfAttentionLayer(\n",
              "          (fc_q): Linear(in_features=128, out_features=128, bias=True)\n",
              "          (fc_k): Linear(in_features=128, out_features=128, bias=True)\n",
              "          (fc_v): Linear(in_features=128, out_features=128, bias=True)\n",
              "          (fc): Linear(in_features=128, out_features=128, bias=True)\n",
              "          (dropout): Dropout(p=0.1, inplace=False)\n",
              "        )\n",
              "        (encoder_attention): SelfAttentionLayer(\n",
              "          (fc_q): Linear(in_features=128, out_features=128, bias=True)\n",
              "          (fc_k): Linear(in_features=128, out_features=128, bias=True)\n",
              "          (fc_v): Linear(in_features=128, out_features=128, bias=True)\n",
              "          (fc): Linear(in_features=128, out_features=128, bias=True)\n",
              "          (dropout): Dropout(p=0.1, inplace=False)\n",
              "        )\n",
              "        (positionwise_feedforward): PositionwiseFeedforwardLayer(\n",
              "          (fc_1): Linear(in_features=128, out_features=256, bias=True)\n",
              "          (fc_2): Linear(in_features=256, out_features=128, bias=True)\n",
              "          (dropout): Dropout(p=0.1, inplace=False)\n",
              "        )\n",
              "        (dropout): Dropout(p=0.1, inplace=False)\n",
              "      )\n",
              "      (1): DecoderLayer(\n",
              "        (layer_norm): LayerNorm((128,), eps=1e-05, elementwise_affine=True)\n",
              "        (self_attention): SelfAttentionLayer(\n",
              "          (fc_q): Linear(in_features=128, out_features=128, bias=True)\n",
              "          (fc_k): Linear(in_features=128, out_features=128, bias=True)\n",
              "          (fc_v): Linear(in_features=128, out_features=128, bias=True)\n",
              "          (fc): Linear(in_features=128, out_features=128, bias=True)\n",
              "          (dropout): Dropout(p=0.1, inplace=False)\n",
              "        )\n",
              "        (encoder_attention): SelfAttentionLayer(\n",
              "          (fc_q): Linear(in_features=128, out_features=128, bias=True)\n",
              "          (fc_k): Linear(in_features=128, out_features=128, bias=True)\n",
              "          (fc_v): Linear(in_features=128, out_features=128, bias=True)\n",
              "          (fc): Linear(in_features=128, out_features=128, bias=True)\n",
              "          (dropout): Dropout(p=0.1, inplace=False)\n",
              "        )\n",
              "        (positionwise_feedforward): PositionwiseFeedforwardLayer(\n",
              "          (fc_1): Linear(in_features=128, out_features=256, bias=True)\n",
              "          (fc_2): Linear(in_features=256, out_features=128, bias=True)\n",
              "          (dropout): Dropout(p=0.1, inplace=False)\n",
              "        )\n",
              "        (dropout): Dropout(p=0.1, inplace=False)\n",
              "      )\n",
              "      (2): DecoderLayer(\n",
              "        (layer_norm): LayerNorm((128,), eps=1e-05, elementwise_affine=True)\n",
              "        (self_attention): SelfAttentionLayer(\n",
              "          (fc_q): Linear(in_features=128, out_features=128, bias=True)\n",
              "          (fc_k): Linear(in_features=128, out_features=128, bias=True)\n",
              "          (fc_v): Linear(in_features=128, out_features=128, bias=True)\n",
              "          (fc): Linear(in_features=128, out_features=128, bias=True)\n",
              "          (dropout): Dropout(p=0.1, inplace=False)\n",
              "        )\n",
              "        (encoder_attention): SelfAttentionLayer(\n",
              "          (fc_q): Linear(in_features=128, out_features=128, bias=True)\n",
              "          (fc_k): Linear(in_features=128, out_features=128, bias=True)\n",
              "          (fc_v): Linear(in_features=128, out_features=128, bias=True)\n",
              "          (fc): Linear(in_features=128, out_features=128, bias=True)\n",
              "          (dropout): Dropout(p=0.1, inplace=False)\n",
              "        )\n",
              "        (positionwise_feedforward): PositionwiseFeedforwardLayer(\n",
              "          (fc_1): Linear(in_features=128, out_features=256, bias=True)\n",
              "          (fc_2): Linear(in_features=256, out_features=128, bias=True)\n",
              "          (dropout): Dropout(p=0.1, inplace=False)\n",
              "        )\n",
              "        (dropout): Dropout(p=0.1, inplace=False)\n",
              "      )\n",
              "    )\n",
              "    (fc_out): Linear(in_features=128, out_features=8183, bias=True)\n",
              "    (dropout): Dropout(p=0.1, inplace=False)\n",
              "  )\n",
              ")"
            ]
          },
          "metadata": {
            "tags": []
          },
          "execution_count": 33
        }
      ]
    },
    {
      "cell_type": "code",
      "metadata": {
        "id": "TeCWMDYQSaBc",
        "colab_type": "code",
        "outputId": "5ff77c87-9c58-48ad-b98b-cc30884706ef",
        "colab": {
          "base_uri": "https://localhost:8080/",
          "height": 34
        }
      },
      "source": [
        "def count_parameters(model):\n",
        "    return sum(p.numel() for p in model.parameters() if p.requires_grad)\n",
        "\n",
        "print(f'The model has {count_parameters(model):,} trainable parameters')"
      ],
      "execution_count": 34,
      "outputs": [
        {
          "output_type": "stream",
          "text": [
            "The model has 4,419,575 trainable parameters\n"
          ],
          "name": "stdout"
        }
      ]
    },
    {
      "cell_type": "code",
      "metadata": {
        "id": "yOKyAIzeSgxA",
        "colab_type": "code",
        "colab": {}
      },
      "source": [
        "# xavier initialization\n",
        "\n",
        "def initialize_weights(m):\n",
        "    if hasattr(m, 'weight') and m.weight.dim() > 1:\n",
        "        nn.init.xavier_uniform_(m.weight.data)"
      ],
      "execution_count": 0,
      "outputs": []
    },
    {
      "cell_type": "code",
      "metadata": {
        "id": "s4OSXgefon1V",
        "colab_type": "code",
        "colab": {}
      },
      "source": [
        "model.apply(initialize_weights);"
      ],
      "execution_count": 0,
      "outputs": []
    },
    {
      "cell_type": "code",
      "metadata": {
        "id": "m6eHMPbBSlBb",
        "colab_type": "code",
        "colab": {}
      },
      "source": [
        "LEARNING_RATE = 0.0005\n",
        "\n",
        "optimizer = torch.optim.Adam(model.parameters(), lr = LEARNING_RATE)"
      ],
      "execution_count": 0,
      "outputs": []
    },
    {
      "cell_type": "code",
      "metadata": {
        "id": "UM75RiekSnr8",
        "colab_type": "code",
        "colab": {}
      },
      "source": [
        "criterion = nn.CrossEntropyLoss(ignore_index = TRG_PAD_IDX)"
      ],
      "execution_count": 0,
      "outputs": []
    },
    {
      "cell_type": "code",
      "metadata": {
        "id": "QDcE8qrESph8",
        "colab_type": "code",
        "colab": {}
      },
      "source": [
        "def train(model, iterator, optimizer, criterion, clip):\n",
        "    \n",
        "    model.train()\n",
        "    \n",
        "    epoch_loss = 0\n",
        "\n",
        "    tqdm_meter = tqdm(iterator, unit=' batches', desc=f'[EPOCH {epoch}/{N_EPOCHS}]', leave=False, total=0)\n",
        "    \n",
        "    for i, batch in enumerate(tqdm_meter):\n",
        "        \n",
        "        src = batch.src\n",
        "        trg = batch.trg\n",
        "        \n",
        "        optimizer.zero_grad()\n",
        "        \n",
        "        output, _ = model(src, trg[:,:-1])\n",
        "                \n",
        "        #output = [batch size, trg len - 1, output dim]\n",
        "        #trg = [batch size, trg len]\n",
        "            \n",
        "        output_dim = output.shape[-1]\n",
        "            \n",
        "        output = output.contiguous().view(-1, output_dim)\n",
        "        trg = trg[:,1:].contiguous().view(-1)\n",
        "                \n",
        "        #output = [batch size * trg len - 1, output dim]\n",
        "        #trg = [batch size * trg len - 1]\n",
        "            \n",
        "        loss = criterion(output, trg)\n",
        "        \n",
        "        loss.backward()\n",
        "        \n",
        "        torch.nn.utils.clip_grad_norm_(model.parameters(), clip)\n",
        "        \n",
        "        optimizer.step()\n",
        "        \n",
        "        epoch_loss += loss.item()\n",
        "\n",
        "        # update tqdm meter\n",
        "        tqdm_meter.set_postfix(loss=f'{loss.item():0.4f}', ppl=f'{math.exp(loss.item()):0.2f}')\n",
        "        tqdm_meter.update()\n",
        "\n",
        "    return epoch_loss / (i + 1)"
      ],
      "execution_count": 0,
      "outputs": []
    },
    {
      "cell_type": "code",
      "metadata": {
        "id": "6P-4Slp1SuFc",
        "colab_type": "code",
        "colab": {}
      },
      "source": [
        "def evaluate(model, iterator, criterion):\n",
        "    \n",
        "    model.eval()\n",
        "    \n",
        "    epoch_loss = 0\n",
        "    \n",
        "    with torch.no_grad():\n",
        "    \n",
        "        for i, batch in enumerate(tqdm(iterator, unit=' batches', leave=False, total=0)):\n",
        "\n",
        "            src = batch.src\n",
        "            trg = batch.trg\n",
        "\n",
        "            output, _ = model(src, trg[:,:-1])\n",
        "            \n",
        "            #output = [batch size, trg len - 1, output dim]\n",
        "            #trg = [batch size, trg len]\n",
        "            \n",
        "            output_dim = output.shape[-1]\n",
        "            \n",
        "            output = output.contiguous().view(-1, output_dim)\n",
        "            trg = trg[:,1:].contiguous().view(-1)\n",
        "            \n",
        "            #output = [batch size * trg len - 1, output dim]\n",
        "            #trg = [batch size * trg len - 1]\n",
        "            \n",
        "            loss = criterion(output, trg)\n",
        "\n",
        "            epoch_loss += loss.item()\n",
        "        \n",
        "    return epoch_loss / (i + 1)"
      ],
      "execution_count": 0,
      "outputs": []
    },
    {
      "cell_type": "code",
      "metadata": {
        "id": "Ur2Z6FfBSxxb",
        "colab_type": "code",
        "colab": {}
      },
      "source": [
        "def epoch_time(start_time, end_time):\n",
        "    elapsed_time = end_time - start_time\n",
        "    elapsed_mins = int(elapsed_time / 60)\n",
        "    elapsed_secs = int(elapsed_time - (elapsed_mins * 60))\n",
        "    return elapsed_mins, elapsed_secs"
      ],
      "execution_count": 0,
      "outputs": []
    },
    {
      "cell_type": "code",
      "metadata": {
        "id": "z4fQZndIS1XE",
        "colab_type": "code",
        "outputId": "d3ce7e5e-c25c-440f-f580-41640d837a76",
        "colab": {
          "base_uri": "https://localhost:8080/",
          "height": 1000
        }
      },
      "source": [
        "N_EPOCHS = 100\n",
        "CLIP = 1\n",
        "\n",
        "best_valid_loss = float('inf')\n",
        "train_losses, val_losses = [], []\n",
        "\n",
        "\n",
        "for epoch in range(1, N_EPOCHS + 1):\n",
        "    \n",
        "    start_time = time.time()\n",
        "    \n",
        "    train_loss = train(model, train_iterator, optimizer, criterion, CLIP)\n",
        "    valid_loss = evaluate(model, valid_iterator, criterion)\n",
        "\n",
        "    train_losses.append(train_loss)\n",
        "    val_losses.append(valid_loss)\n",
        "    \n",
        "    end_time = time.time()\n",
        "    \n",
        "    epoch_mins, epoch_secs = epoch_time(start_time, end_time)\n",
        "    \n",
        "    if valid_loss < best_valid_loss:\n",
        "        print('\\n\\t--Found new best val loss')\n",
        "        best_valid_loss = valid_loss\n",
        "        torch.save(model.state_dict(), 'model.pt')\n",
        "    \n",
        "    print(f'\\nEpoch: {epoch:02} (^_^) Time: {epoch_mins}m {epoch_secs}s', end='')\n",
        "    print(f'\\tTrain Loss: {train_loss:.3f} | Train PPL: {math.exp(train_loss):7.3f}', end='')\n",
        "    print(f'\\t Val. Loss: {valid_loss:.3f} |  Val. PPL: {math.exp(valid_loss):7.3f}')"
      ],
      "execution_count": 42,
      "outputs": [
        {
          "output_type": "stream",
          "text": [
            "[EPOCH 2/100]: 0 batches [00:00, ? batches/s]"
          ],
          "name": "stderr"
        },
        {
          "output_type": "stream",
          "text": [
            "\n",
            "\t--Found new best val loss\n",
            "\n",
            "Epoch: 01 (^_^) Time: 0m 43s\tTrain Loss: 7.696 | Train PPL: 2200.467\t Val. Loss: 7.216 |  Val. PPL: 1360.833\n"
          ],
          "name": "stdout"
        },
        {
          "output_type": "stream",
          "text": [
            "[EPOCH 3/100]: 0 batches [00:00, ? batches/s]"
          ],
          "name": "stderr"
        },
        {
          "output_type": "stream",
          "text": [
            "\n",
            "\t--Found new best val loss\n",
            "\n",
            "Epoch: 02 (^_^) Time: 0m 42s\tTrain Loss: 6.651 | Train PPL: 773.763\t Val. Loss: 6.383 |  Val. PPL: 591.584\n"
          ],
          "name": "stdout"
        },
        {
          "output_type": "stream",
          "text": [
            "[EPOCH 4/100]: 0 batches [00:00, ? batches/s]"
          ],
          "name": "stderr"
        },
        {
          "output_type": "stream",
          "text": [
            "\n",
            "\t--Found new best val loss\n",
            "\n",
            "Epoch: 03 (^_^) Time: 0m 43s\tTrain Loss: 6.019 | Train PPL: 411.247\t Val. Loss: 5.936 |  Val. PPL: 378.262\n"
          ],
          "name": "stdout"
        },
        {
          "output_type": "stream",
          "text": [
            "[EPOCH 5/100]: 0 batches [00:00, ? batches/s]"
          ],
          "name": "stderr"
        },
        {
          "output_type": "stream",
          "text": [
            "\n",
            "\t--Found new best val loss\n",
            "\n",
            "Epoch: 04 (^_^) Time: 0m 42s\tTrain Loss: 5.576 | Train PPL: 264.047\t Val. Loss: 5.592 |  Val. PPL: 268.288\n"
          ],
          "name": "stdout"
        },
        {
          "output_type": "stream",
          "text": [
            "[EPOCH 6/100]: 0 batches [00:00, ? batches/s]"
          ],
          "name": "stderr"
        },
        {
          "output_type": "stream",
          "text": [
            "\n",
            "\t--Found new best val loss\n",
            "\n",
            "Epoch: 05 (^_^) Time: 0m 42s\tTrain Loss: 5.224 | Train PPL: 185.748\t Val. Loss: 5.331 |  Val. PPL: 206.738\n"
          ],
          "name": "stdout"
        },
        {
          "output_type": "stream",
          "text": [
            "[EPOCH 7/100]: 0 batches [00:00, ? batches/s]"
          ],
          "name": "stderr"
        },
        {
          "output_type": "stream",
          "text": [
            "\n",
            "\t--Found new best val loss\n",
            "\n",
            "Epoch: 06 (^_^) Time: 0m 42s\tTrain Loss: 4.942 | Train PPL: 140.065\t Val. Loss: 4.964 |  Val. PPL: 143.220\n"
          ],
          "name": "stdout"
        },
        {
          "output_type": "stream",
          "text": [
            "[EPOCH 8/100]: 0 batches [00:00, ? batches/s]"
          ],
          "name": "stderr"
        },
        {
          "output_type": "stream",
          "text": [
            "\n",
            "\t--Found new best val loss\n",
            "\n",
            "Epoch: 07 (^_^) Time: 0m 43s\tTrain Loss: 4.685 | Train PPL: 108.322\t Val. Loss: 4.599 |  Val. PPL:  99.341\n"
          ],
          "name": "stdout"
        },
        {
          "output_type": "stream",
          "text": [
            "[EPOCH 9/100]: 0 batches [00:00, ? batches/s]"
          ],
          "name": "stderr"
        },
        {
          "output_type": "stream",
          "text": [
            "\n",
            "\t--Found new best val loss\n",
            "\n",
            "Epoch: 08 (^_^) Time: 0m 43s\tTrain Loss: 4.467 | Train PPL:  87.133\t Val. Loss: 4.287 |  Val. PPL:  72.758\n"
          ],
          "name": "stdout"
        },
        {
          "output_type": "stream",
          "text": [
            "[EPOCH 10/100]: 0 batches [00:00, ? batches/s]"
          ],
          "name": "stderr"
        },
        {
          "output_type": "stream",
          "text": [
            "\n",
            "\t--Found new best val loss\n",
            "\n",
            "Epoch: 09 (^_^) Time: 0m 43s\tTrain Loss: 4.279 | Train PPL:  72.163\t Val. Loss: 4.033 |  Val. PPL:  56.436\n"
          ],
          "name": "stdout"
        },
        {
          "output_type": "stream",
          "text": [
            "[EPOCH 11/100]: 0 batches [00:00, ? batches/s]"
          ],
          "name": "stderr"
        },
        {
          "output_type": "stream",
          "text": [
            "\n",
            "\t--Found new best val loss\n",
            "\n",
            "Epoch: 10 (^_^) Time: 0m 43s\tTrain Loss: 4.104 | Train PPL:  60.569\t Val. Loss: 3.718 |  Val. PPL:  41.173\n"
          ],
          "name": "stdout"
        },
        {
          "output_type": "stream",
          "text": [
            "[EPOCH 12/100]: 0 batches [00:00, ? batches/s]"
          ],
          "name": "stderr"
        },
        {
          "output_type": "stream",
          "text": [
            "\n",
            "\t--Found new best val loss\n",
            "\n",
            "Epoch: 11 (^_^) Time: 0m 43s\tTrain Loss: 3.946 | Train PPL:  51.723\t Val. Loss: 3.490 |  Val. PPL:  32.774\n"
          ],
          "name": "stdout"
        },
        {
          "output_type": "stream",
          "text": [
            "[EPOCH 13/100]: 0 batches [00:00, ? batches/s]"
          ],
          "name": "stderr"
        },
        {
          "output_type": "stream",
          "text": [
            "\n",
            "\t--Found new best val loss\n",
            "\n",
            "Epoch: 12 (^_^) Time: 0m 43s\tTrain Loss: 3.797 | Train PPL:  44.560\t Val. Loss: 3.249 |  Val. PPL:  25.758\n"
          ],
          "name": "stdout"
        },
        {
          "output_type": "stream",
          "text": [
            "[EPOCH 14/100]: 0 batches [00:00, ? batches/s]"
          ],
          "name": "stderr"
        },
        {
          "output_type": "stream",
          "text": [
            "\n",
            "\t--Found new best val loss\n",
            "\n",
            "Epoch: 13 (^_^) Time: 0m 43s\tTrain Loss: 3.669 | Train PPL:  39.206\t Val. Loss: 3.040 |  Val. PPL:  20.898\n"
          ],
          "name": "stdout"
        },
        {
          "output_type": "stream",
          "text": [
            "[EPOCH 15/100]: 0 batches [00:00, ? batches/s]"
          ],
          "name": "stderr"
        },
        {
          "output_type": "stream",
          "text": [
            "\n",
            "\t--Found new best val loss\n",
            "\n",
            "Epoch: 14 (^_^) Time: 0m 43s\tTrain Loss: 3.545 | Train PPL:  34.645\t Val. Loss: 2.905 |  Val. PPL:  18.269\n"
          ],
          "name": "stdout"
        },
        {
          "output_type": "stream",
          "text": [
            "[EPOCH 16/100]: 0 batches [00:00, ? batches/s]"
          ],
          "name": "stderr"
        },
        {
          "output_type": "stream",
          "text": [
            "\n",
            "\t--Found new best val loss\n",
            "\n",
            "Epoch: 15 (^_^) Time: 0m 43s\tTrain Loss: 3.427 | Train PPL:  30.795\t Val. Loss: 2.786 |  Val. PPL:  16.209\n"
          ],
          "name": "stdout"
        },
        {
          "output_type": "stream",
          "text": [
            "[EPOCH 17/100]: 0 batches [00:00, ? batches/s]"
          ],
          "name": "stderr"
        },
        {
          "output_type": "stream",
          "text": [
            "\n",
            "\t--Found new best val loss\n",
            "\n",
            "Epoch: 16 (^_^) Time: 0m 43s\tTrain Loss: 3.320 | Train PPL:  27.650\t Val. Loss: 2.522 |  Val. PPL:  12.451\n"
          ],
          "name": "stdout"
        },
        {
          "output_type": "stream",
          "text": [
            "[EPOCH 18/100]: 0 batches [00:00, ? batches/s]"
          ],
          "name": "stderr"
        },
        {
          "output_type": "stream",
          "text": [
            "\n",
            "\t--Found new best val loss\n",
            "\n",
            "Epoch: 17 (^_^) Time: 0m 43s\tTrain Loss: 3.219 | Train PPL:  25.013\t Val. Loss: 2.433 |  Val. PPL:  11.388\n"
          ],
          "name": "stdout"
        },
        {
          "output_type": "stream",
          "text": [
            "[EPOCH 19/100]: 0 batches [00:00, ? batches/s]"
          ],
          "name": "stderr"
        },
        {
          "output_type": "stream",
          "text": [
            "\n",
            "\t--Found new best val loss\n",
            "\n",
            "Epoch: 18 (^_^) Time: 0m 42s\tTrain Loss: 3.128 | Train PPL:  22.826\t Val. Loss: 2.265 |  Val. PPL:   9.635\n"
          ],
          "name": "stdout"
        },
        {
          "output_type": "stream",
          "text": [
            "[EPOCH 20/100]: 0 batches [00:00, ? batches/s]"
          ],
          "name": "stderr"
        },
        {
          "output_type": "stream",
          "text": [
            "\n",
            "\t--Found new best val loss\n",
            "\n",
            "Epoch: 19 (^_^) Time: 0m 43s\tTrain Loss: 3.041 | Train PPL:  20.921\t Val. Loss: 2.124 |  Val. PPL:   8.361\n"
          ],
          "name": "stdout"
        },
        {
          "output_type": "stream",
          "text": [
            "[EPOCH 21/100]: 0 batches [00:00, ? batches/s]"
          ],
          "name": "stderr"
        },
        {
          "output_type": "stream",
          "text": [
            "\n",
            "\t--Found new best val loss\n",
            "\n",
            "Epoch: 20 (^_^) Time: 0m 43s\tTrain Loss: 2.955 | Train PPL:  19.193\t Val. Loss: 1.974 |  Val. PPL:   7.198\n"
          ],
          "name": "stdout"
        },
        {
          "output_type": "stream",
          "text": [
            "[EPOCH 22/100]: 0 batches [00:00, ? batches/s]"
          ],
          "name": "stderr"
        },
        {
          "output_type": "stream",
          "text": [
            "\n",
            "\t--Found new best val loss\n",
            "\n",
            "Epoch: 21 (^_^) Time: 0m 43s\tTrain Loss: 2.880 | Train PPL:  17.812\t Val. Loss: 1.897 |  Val. PPL:   6.665\n"
          ],
          "name": "stdout"
        },
        {
          "output_type": "stream",
          "text": [
            "[EPOCH 23/100]: 0 batches [00:00, ? batches/s]"
          ],
          "name": "stderr"
        },
        {
          "output_type": "stream",
          "text": [
            "\n",
            "\t--Found new best val loss\n",
            "\n",
            "Epoch: 22 (^_^) Time: 0m 43s\tTrain Loss: 2.803 | Train PPL:  16.487\t Val. Loss: 1.783 |  Val. PPL:   5.948\n"
          ],
          "name": "stdout"
        },
        {
          "output_type": "stream",
          "text": [
            "[EPOCH 24/100]: 0 batches [00:00, ? batches/s]"
          ],
          "name": "stderr"
        },
        {
          "output_type": "stream",
          "text": [
            "\n",
            "\t--Found new best val loss\n",
            "\n",
            "Epoch: 23 (^_^) Time: 0m 43s\tTrain Loss: 2.732 | Train PPL:  15.360\t Val. Loss: 1.687 |  Val. PPL:   5.406\n"
          ],
          "name": "stdout"
        },
        {
          "output_type": "stream",
          "text": [
            "[EPOCH 25/100]: 0 batches [00:00, ? batches/s]"
          ],
          "name": "stderr"
        },
        {
          "output_type": "stream",
          "text": [
            "\n",
            "\t--Found new best val loss\n",
            "\n",
            "Epoch: 24 (^_^) Time: 0m 43s\tTrain Loss: 2.670 | Train PPL:  14.445\t Val. Loss: 1.628 |  Val. PPL:   5.092\n"
          ],
          "name": "stdout"
        },
        {
          "output_type": "stream",
          "text": [
            "[EPOCH 26/100]: 0 batches [00:00, ? batches/s]"
          ],
          "name": "stderr"
        },
        {
          "output_type": "stream",
          "text": [
            "\n",
            "\t--Found new best val loss\n",
            "\n",
            "Epoch: 25 (^_^) Time: 0m 43s\tTrain Loss: 2.606 | Train PPL:  13.540\t Val. Loss: 1.542 |  Val. PPL:   4.674\n"
          ],
          "name": "stdout"
        },
        {
          "output_type": "stream",
          "text": [
            "[EPOCH 27/100]: 0 batches [00:00, ? batches/s]"
          ],
          "name": "stderr"
        },
        {
          "output_type": "stream",
          "text": [
            "\n",
            "\t--Found new best val loss\n",
            "\n",
            "Epoch: 26 (^_^) Time: 0m 43s\tTrain Loss: 2.547 | Train PPL:  12.764\t Val. Loss: 1.459 |  Val. PPL:   4.302\n"
          ],
          "name": "stdout"
        },
        {
          "output_type": "stream",
          "text": [
            "[EPOCH 28/100]: 0 batches [00:00, ? batches/s]"
          ],
          "name": "stderr"
        },
        {
          "output_type": "stream",
          "text": [
            "\n",
            "\t--Found new best val loss\n",
            "\n",
            "Epoch: 27 (^_^) Time: 0m 43s\tTrain Loss: 2.493 | Train PPL:  12.100\t Val. Loss: 1.372 |  Val. PPL:   3.945\n"
          ],
          "name": "stdout"
        },
        {
          "output_type": "stream",
          "text": [
            "[EPOCH 29/100]: 0 batches [00:00, ? batches/s]"
          ],
          "name": "stderr"
        },
        {
          "output_type": "stream",
          "text": [
            "\n",
            "\t--Found new best val loss\n",
            "\n",
            "Epoch: 28 (^_^) Time: 0m 43s\tTrain Loss: 2.438 | Train PPL:  11.452\t Val. Loss: 1.324 |  Val. PPL:   3.759\n"
          ],
          "name": "stdout"
        },
        {
          "output_type": "stream",
          "text": [
            "[EPOCH 30/100]: 0 batches [00:00, ? batches/s]"
          ],
          "name": "stderr"
        },
        {
          "output_type": "stream",
          "text": [
            "\n",
            "\t--Found new best val loss\n",
            "\n",
            "Epoch: 29 (^_^) Time: 0m 43s\tTrain Loss: 2.396 | Train PPL:  10.978\t Val. Loss: 1.263 |  Val. PPL:   3.535\n"
          ],
          "name": "stdout"
        },
        {
          "output_type": "stream",
          "text": [
            "[EPOCH 31/100]: 0 batches [00:00, ? batches/s]"
          ],
          "name": "stderr"
        },
        {
          "output_type": "stream",
          "text": [
            "\n",
            "\t--Found new best val loss\n",
            "\n",
            "Epoch: 30 (^_^) Time: 0m 43s\tTrain Loss: 2.341 | Train PPL:  10.388\t Val. Loss: 1.185 |  Val. PPL:   3.270\n"
          ],
          "name": "stdout"
        },
        {
          "output_type": "stream",
          "text": [
            "[EPOCH 32/100]: 0 batches [00:00, ? batches/s]"
          ],
          "name": "stderr"
        },
        {
          "output_type": "stream",
          "text": [
            "\n",
            "\t--Found new best val loss\n",
            "\n",
            "Epoch: 31 (^_^) Time: 0m 43s\tTrain Loss: 2.294 | Train PPL:   9.919\t Val. Loss: 1.135 |  Val. PPL:   3.111\n"
          ],
          "name": "stdout"
        },
        {
          "output_type": "stream",
          "text": [
            "[EPOCH 33/100]: 0 batches [00:00, ? batches/s]"
          ],
          "name": "stderr"
        },
        {
          "output_type": "stream",
          "text": [
            "\n",
            "\t--Found new best val loss\n",
            "\n",
            "Epoch: 32 (^_^) Time: 0m 43s\tTrain Loss: 2.251 | Train PPL:   9.496\t Val. Loss: 1.106 |  Val. PPL:   3.023\n"
          ],
          "name": "stdout"
        },
        {
          "output_type": "stream",
          "text": [
            "[EPOCH 34/100]: 0 batches [00:00, ? batches/s]"
          ],
          "name": "stderr"
        },
        {
          "output_type": "stream",
          "text": [
            "\n",
            "\t--Found new best val loss\n",
            "\n",
            "Epoch: 33 (^_^) Time: 0m 43s\tTrain Loss: 2.211 | Train PPL:   9.125\t Val. Loss: 1.046 |  Val. PPL:   2.847\n"
          ],
          "name": "stdout"
        },
        {
          "output_type": "stream",
          "text": [
            "[EPOCH 35/100]: 0 batches [00:00, ? batches/s]"
          ],
          "name": "stderr"
        },
        {
          "output_type": "stream",
          "text": [
            "\n",
            "\t--Found new best val loss\n",
            "\n",
            "Epoch: 34 (^_^) Time: 0m 43s\tTrain Loss: 2.169 | Train PPL:   8.750\t Val. Loss: 0.976 |  Val. PPL:   2.653\n"
          ],
          "name": "stdout"
        },
        {
          "output_type": "stream",
          "text": [
            "[EPOCH 36/100]: 0 batches [00:00, ? batches/s]"
          ],
          "name": "stderr"
        },
        {
          "output_type": "stream",
          "text": [
            "\n",
            "Epoch: 35 (^_^) Time: 0m 43s\tTrain Loss: 2.133 | Train PPL:   8.440\t Val. Loss: 0.984 |  Val. PPL:   2.676\n"
          ],
          "name": "stdout"
        },
        {
          "output_type": "stream",
          "text": [
            "[EPOCH 37/100]: 0 batches [00:00, ? batches/s]"
          ],
          "name": "stderr"
        },
        {
          "output_type": "stream",
          "text": [
            "\n",
            "\t--Found new best val loss\n",
            "\n",
            "Epoch: 36 (^_^) Time: 0m 43s\tTrain Loss: 2.094 | Train PPL:   8.119\t Val. Loss: 0.900 |  Val. PPL:   2.459\n"
          ],
          "name": "stdout"
        },
        {
          "output_type": "stream",
          "text": [
            "[EPOCH 38/100]: 0 batches [00:00, ? batches/s]"
          ],
          "name": "stderr"
        },
        {
          "output_type": "stream",
          "text": [
            "\n",
            "\t--Found new best val loss\n",
            "\n",
            "Epoch: 37 (^_^) Time: 0m 43s\tTrain Loss: 2.063 | Train PPL:   7.866\t Val. Loss: 0.852 |  Val. PPL:   2.345\n"
          ],
          "name": "stdout"
        },
        {
          "output_type": "stream",
          "text": [
            "[EPOCH 39/100]: 0 batches [00:00, ? batches/s]"
          ],
          "name": "stderr"
        },
        {
          "output_type": "stream",
          "text": [
            "\n",
            "\t--Found new best val loss\n",
            "\n",
            "Epoch: 38 (^_^) Time: 0m 43s\tTrain Loss: 2.028 | Train PPL:   7.602\t Val. Loss: 0.835 |  Val. PPL:   2.305\n"
          ],
          "name": "stdout"
        },
        {
          "output_type": "stream",
          "text": [
            "[EPOCH 40/100]: 0 batches [00:00, ? batches/s]"
          ],
          "name": "stderr"
        },
        {
          "output_type": "stream",
          "text": [
            "\n",
            "\t--Found new best val loss\n",
            "\n",
            "Epoch: 39 (^_^) Time: 0m 43s\tTrain Loss: 1.994 | Train PPL:   7.343\t Val. Loss: 0.799 |  Val. PPL:   2.224\n"
          ],
          "name": "stdout"
        },
        {
          "output_type": "stream",
          "text": [
            "[EPOCH 41/100]: 0 batches [00:00, ? batches/s]"
          ],
          "name": "stderr"
        },
        {
          "output_type": "stream",
          "text": [
            "\n",
            "\t--Found new best val loss\n",
            "\n",
            "Epoch: 40 (^_^) Time: 0m 43s\tTrain Loss: 1.970 | Train PPL:   7.174\t Val. Loss: 0.795 |  Val. PPL:   2.214\n"
          ],
          "name": "stdout"
        },
        {
          "output_type": "stream",
          "text": [
            "[EPOCH 42/100]: 0 batches [00:00, ? batches/s]"
          ],
          "name": "stderr"
        },
        {
          "output_type": "stream",
          "text": [
            "\n",
            "\t--Found new best val loss\n",
            "\n",
            "Epoch: 41 (^_^) Time: 0m 43s\tTrain Loss: 1.936 | Train PPL:   6.928\t Val. Loss: 0.752 |  Val. PPL:   2.122\n"
          ],
          "name": "stdout"
        },
        {
          "output_type": "stream",
          "text": [
            "[EPOCH 43/100]: 0 batches [00:00, ? batches/s]"
          ],
          "name": "stderr"
        },
        {
          "output_type": "stream",
          "text": [
            "\n",
            "Epoch: 42 (^_^) Time: 0m 43s\tTrain Loss: 1.910 | Train PPL:   6.754\t Val. Loss: 0.760 |  Val. PPL:   2.138\n"
          ],
          "name": "stdout"
        },
        {
          "output_type": "stream",
          "text": [
            "[EPOCH 44/100]: 0 batches [00:00, ? batches/s]"
          ],
          "name": "stderr"
        },
        {
          "output_type": "stream",
          "text": [
            "\n",
            "\t--Found new best val loss\n",
            "\n",
            "Epoch: 43 (^_^) Time: 0m 43s\tTrain Loss: 1.885 | Train PPL:   6.589\t Val. Loss: 0.725 |  Val. PPL:   2.064\n"
          ],
          "name": "stdout"
        },
        {
          "output_type": "stream",
          "text": [
            "[EPOCH 45/100]: 0 batches [00:00, ? batches/s]"
          ],
          "name": "stderr"
        },
        {
          "output_type": "stream",
          "text": [
            "\n",
            "\t--Found new best val loss\n",
            "\n",
            "Epoch: 44 (^_^) Time: 0m 43s\tTrain Loss: 1.856 | Train PPL:   6.397\t Val. Loss: 0.712 |  Val. PPL:   2.038\n"
          ],
          "name": "stdout"
        },
        {
          "output_type": "stream",
          "text": [
            "[EPOCH 46/100]: 0 batches [00:00, ? batches/s]"
          ],
          "name": "stderr"
        },
        {
          "output_type": "stream",
          "text": [
            "\n",
            "\t--Found new best val loss\n",
            "\n",
            "Epoch: 45 (^_^) Time: 0m 43s\tTrain Loss: 1.830 | Train PPL:   6.235\t Val. Loss: 0.686 |  Val. PPL:   1.987\n"
          ],
          "name": "stdout"
        },
        {
          "output_type": "stream",
          "text": [
            "[EPOCH 47/100]: 0 batches [00:00, ? batches/s]"
          ],
          "name": "stderr"
        },
        {
          "output_type": "stream",
          "text": [
            "\n",
            "\t--Found new best val loss\n",
            "\n",
            "Epoch: 46 (^_^) Time: 0m 43s\tTrain Loss: 1.803 | Train PPL:   6.069\t Val. Loss: 0.686 |  Val. PPL:   1.986\n"
          ],
          "name": "stdout"
        },
        {
          "output_type": "stream",
          "text": [
            "[EPOCH 48/100]: 0 batches [00:00, ? batches/s]"
          ],
          "name": "stderr"
        },
        {
          "output_type": "stream",
          "text": [
            "\n",
            "\t--Found new best val loss\n",
            "\n",
            "Epoch: 47 (^_^) Time: 0m 43s\tTrain Loss: 1.786 | Train PPL:   5.966\t Val. Loss: 0.630 |  Val. PPL:   1.877\n"
          ],
          "name": "stdout"
        },
        {
          "output_type": "stream",
          "text": [
            "[EPOCH 49/100]: 0 batches [00:00, ? batches/s]"
          ],
          "name": "stderr"
        },
        {
          "output_type": "stream",
          "text": [
            "\n",
            "\t--Found new best val loss\n",
            "\n",
            "Epoch: 48 (^_^) Time: 0m 43s\tTrain Loss: 1.758 | Train PPL:   5.802\t Val. Loss: 0.618 |  Val. PPL:   1.856\n"
          ],
          "name": "stdout"
        },
        {
          "output_type": "stream",
          "text": [
            "[EPOCH 50/100]: 0 batches [00:00, ? batches/s]"
          ],
          "name": "stderr"
        },
        {
          "output_type": "stream",
          "text": [
            "\n",
            "\t--Found new best val loss\n",
            "\n",
            "Epoch: 49 (^_^) Time: 0m 43s\tTrain Loss: 1.739 | Train PPL:   5.690\t Val. Loss: 0.607 |  Val. PPL:   1.836\n"
          ],
          "name": "stdout"
        },
        {
          "output_type": "stream",
          "text": [
            "[EPOCH 51/100]: 0 batches [00:00, ? batches/s]"
          ],
          "name": "stderr"
        },
        {
          "output_type": "stream",
          "text": [
            "\n",
            "\t--Found new best val loss\n",
            "\n",
            "Epoch: 50 (^_^) Time: 0m 43s\tTrain Loss: 1.718 | Train PPL:   5.573\t Val. Loss: 0.569 |  Val. PPL:   1.766\n"
          ],
          "name": "stdout"
        },
        {
          "output_type": "stream",
          "text": [
            "[EPOCH 52/100]: 0 batches [00:00, ? batches/s]"
          ],
          "name": "stderr"
        },
        {
          "output_type": "stream",
          "text": [
            "\n",
            "\t--Found new best val loss\n",
            "\n",
            "Epoch: 51 (^_^) Time: 0m 43s\tTrain Loss: 1.696 | Train PPL:   5.452\t Val. Loss: 0.560 |  Val. PPL:   1.751\n"
          ],
          "name": "stdout"
        },
        {
          "output_type": "stream",
          "text": [
            "[EPOCH 53/100]: 0 batches [00:00, ? batches/s]"
          ],
          "name": "stderr"
        },
        {
          "output_type": "stream",
          "text": [
            "\n",
            "\t--Found new best val loss\n",
            "\n",
            "Epoch: 52 (^_^) Time: 0m 43s\tTrain Loss: 1.680 | Train PPL:   5.367\t Val. Loss: 0.535 |  Val. PPL:   1.708\n"
          ],
          "name": "stdout"
        },
        {
          "output_type": "stream",
          "text": [
            "[EPOCH 54/100]: 0 batches [00:00, ? batches/s]"
          ],
          "name": "stderr"
        },
        {
          "output_type": "stream",
          "text": [
            "\n",
            "\t--Found new best val loss\n",
            "\n",
            "Epoch: 53 (^_^) Time: 0m 43s\tTrain Loss: 1.658 | Train PPL:   5.251\t Val. Loss: 0.524 |  Val. PPL:   1.688\n"
          ],
          "name": "stdout"
        },
        {
          "output_type": "stream",
          "text": [
            "[EPOCH 55/100]: 0 batches [00:00, ? batches/s]"
          ],
          "name": "stderr"
        },
        {
          "output_type": "stream",
          "text": [
            "\n",
            "\t--Found new best val loss\n",
            "\n",
            "Epoch: 54 (^_^) Time: 0m 43s\tTrain Loss: 1.643 | Train PPL:   5.170\t Val. Loss: 0.497 |  Val. PPL:   1.643\n"
          ],
          "name": "stdout"
        },
        {
          "output_type": "stream",
          "text": [
            "[EPOCH 56/100]: 0 batches [00:00, ? batches/s]"
          ],
          "name": "stderr"
        },
        {
          "output_type": "stream",
          "text": [
            "\n",
            "\t--Found new best val loss\n",
            "\n",
            "Epoch: 55 (^_^) Time: 0m 43s\tTrain Loss: 1.622 | Train PPL:   5.062\t Val. Loss: 0.472 |  Val. PPL:   1.603\n"
          ],
          "name": "stdout"
        },
        {
          "output_type": "stream",
          "text": [
            "[EPOCH 57/100]: 0 batches [00:00, ? batches/s]"
          ],
          "name": "stderr"
        },
        {
          "output_type": "stream",
          "text": [
            "\n",
            "\t--Found new best val loss\n",
            "\n",
            "Epoch: 56 (^_^) Time: 0m 43s\tTrain Loss: 1.607 | Train PPL:   4.987\t Val. Loss: 0.468 |  Val. PPL:   1.596\n"
          ],
          "name": "stdout"
        },
        {
          "output_type": "stream",
          "text": [
            "[EPOCH 58/100]: 0 batches [00:00, ? batches/s]"
          ],
          "name": "stderr"
        },
        {
          "output_type": "stream",
          "text": [
            "\n",
            "Epoch: 57 (^_^) Time: 0m 43s\tTrain Loss: 1.585 | Train PPL:   4.880\t Val. Loss: 0.468 |  Val. PPL:   1.597\n"
          ],
          "name": "stdout"
        },
        {
          "output_type": "stream",
          "text": [
            "[EPOCH 59/100]: 0 batches [00:00, ? batches/s]"
          ],
          "name": "stderr"
        },
        {
          "output_type": "stream",
          "text": [
            "\n",
            "\t--Found new best val loss\n",
            "\n",
            "Epoch: 58 (^_^) Time: 0m 43s\tTrain Loss: 1.575 | Train PPL:   4.829\t Val. Loss: 0.467 |  Val. PPL:   1.595\n"
          ],
          "name": "stdout"
        },
        {
          "output_type": "stream",
          "text": [
            "[EPOCH 60/100]: 0 batches [00:00, ? batches/s]"
          ],
          "name": "stderr"
        },
        {
          "output_type": "stream",
          "text": [
            "\n",
            "\t--Found new best val loss\n",
            "\n",
            "Epoch: 59 (^_^) Time: 0m 43s\tTrain Loss: 1.557 | Train PPL:   4.743\t Val. Loss: 0.429 |  Val. PPL:   1.536\n"
          ],
          "name": "stdout"
        },
        {
          "output_type": "stream",
          "text": [
            "[EPOCH 61/100]: 0 batches [00:00, ? batches/s]"
          ],
          "name": "stderr"
        },
        {
          "output_type": "stream",
          "text": [
            "\n",
            "\t--Found new best val loss\n",
            "\n",
            "Epoch: 60 (^_^) Time: 0m 43s\tTrain Loss: 1.540 | Train PPL:   4.667\t Val. Loss: 0.414 |  Val. PPL:   1.513\n"
          ],
          "name": "stdout"
        },
        {
          "output_type": "stream",
          "text": [
            "[EPOCH 62/100]: 0 batches [00:00, ? batches/s]"
          ],
          "name": "stderr"
        },
        {
          "output_type": "stream",
          "text": [
            "\n",
            "\t--Found new best val loss\n",
            "\n",
            "Epoch: 61 (^_^) Time: 0m 43s\tTrain Loss: 1.527 | Train PPL:   4.605\t Val. Loss: 0.407 |  Val. PPL:   1.503\n"
          ],
          "name": "stdout"
        },
        {
          "output_type": "stream",
          "text": [
            "[EPOCH 63/100]: 0 batches [00:00, ? batches/s]"
          ],
          "name": "stderr"
        },
        {
          "output_type": "stream",
          "text": [
            "\n",
            "Epoch: 62 (^_^) Time: 0m 43s\tTrain Loss: 1.519 | Train PPL:   4.568\t Val. Loss: 0.422 |  Val. PPL:   1.526\n"
          ],
          "name": "stdout"
        },
        {
          "output_type": "stream",
          "text": [
            "[EPOCH 64/100]: 0 batches [00:00, ? batches/s]"
          ],
          "name": "stderr"
        },
        {
          "output_type": "stream",
          "text": [
            "\n",
            "\t--Found new best val loss\n",
            "\n",
            "Epoch: 63 (^_^) Time: 0m 43s\tTrain Loss: 1.499 | Train PPL:   4.479\t Val. Loss: 0.397 |  Val. PPL:   1.487\n"
          ],
          "name": "stdout"
        },
        {
          "output_type": "stream",
          "text": [
            "[EPOCH 65/100]: 0 batches [00:00, ? batches/s]"
          ],
          "name": "stderr"
        },
        {
          "output_type": "stream",
          "text": [
            "\n",
            "\t--Found new best val loss\n",
            "\n",
            "Epoch: 64 (^_^) Time: 0m 43s\tTrain Loss: 1.490 | Train PPL:   4.439\t Val. Loss: 0.375 |  Val. PPL:   1.456\n"
          ],
          "name": "stdout"
        },
        {
          "output_type": "stream",
          "text": [
            "[EPOCH 66/100]: 0 batches [00:00, ? batches/s]"
          ],
          "name": "stderr"
        },
        {
          "output_type": "stream",
          "text": [
            "\n",
            "\t--Found new best val loss\n",
            "\n",
            "Epoch: 65 (^_^) Time: 0m 43s\tTrain Loss: 1.477 | Train PPL:   4.379\t Val. Loss: 0.372 |  Val. PPL:   1.451\n"
          ],
          "name": "stdout"
        },
        {
          "output_type": "stream",
          "text": [
            "[EPOCH 67/100]: 0 batches [00:00, ? batches/s]"
          ],
          "name": "stderr"
        },
        {
          "output_type": "stream",
          "text": [
            "\n",
            "\t--Found new best val loss\n",
            "\n",
            "Epoch: 66 (^_^) Time: 0m 43s\tTrain Loss: 1.462 | Train PPL:   4.315\t Val. Loss: 0.368 |  Val. PPL:   1.445\n"
          ],
          "name": "stdout"
        },
        {
          "output_type": "stream",
          "text": [
            "[EPOCH 68/100]: 0 batches [00:00, ? batches/s]"
          ],
          "name": "stderr"
        },
        {
          "output_type": "stream",
          "text": [
            "\n",
            "\t--Found new best val loss\n",
            "\n",
            "Epoch: 67 (^_^) Time: 0m 43s\tTrain Loss: 1.452 | Train PPL:   4.272\t Val. Loss: 0.366 |  Val. PPL:   1.442\n"
          ],
          "name": "stdout"
        },
        {
          "output_type": "stream",
          "text": [
            "[EPOCH 69/100]: 0 batches [00:00, ? batches/s]"
          ],
          "name": "stderr"
        },
        {
          "output_type": "stream",
          "text": [
            "\n",
            "\t--Found new best val loss\n",
            "\n",
            "Epoch: 68 (^_^) Time: 0m 42s\tTrain Loss: 1.438 | Train PPL:   4.211\t Val. Loss: 0.356 |  Val. PPL:   1.427\n"
          ],
          "name": "stdout"
        },
        {
          "output_type": "stream",
          "text": [
            "[EPOCH 70/100]: 0 batches [00:00, ? batches/s]"
          ],
          "name": "stderr"
        },
        {
          "output_type": "stream",
          "text": [
            "\n",
            "\t--Found new best val loss\n",
            "\n",
            "Epoch: 69 (^_^) Time: 0m 42s\tTrain Loss: 1.429 | Train PPL:   4.176\t Val. Loss: 0.348 |  Val. PPL:   1.416\n"
          ],
          "name": "stdout"
        },
        {
          "output_type": "stream",
          "text": [
            "[EPOCH 71/100]: 0 batches [00:00, ? batches/s]"
          ],
          "name": "stderr"
        },
        {
          "output_type": "stream",
          "text": [
            "\n",
            "\t--Found new best val loss\n",
            "\n",
            "Epoch: 70 (^_^) Time: 0m 42s\tTrain Loss: 1.419 | Train PPL:   4.135\t Val. Loss: 0.346 |  Val. PPL:   1.414\n"
          ],
          "name": "stdout"
        },
        {
          "output_type": "stream",
          "text": [
            "[EPOCH 72/100]: 0 batches [00:00, ? batches/s]"
          ],
          "name": "stderr"
        },
        {
          "output_type": "stream",
          "text": [
            "\n",
            "\t--Found new best val loss\n",
            "\n",
            "Epoch: 71 (^_^) Time: 0m 43s\tTrain Loss: 1.404 | Train PPL:   4.072\t Val. Loss: 0.341 |  Val. PPL:   1.406\n"
          ],
          "name": "stdout"
        },
        {
          "output_type": "stream",
          "text": [
            "[EPOCH 73/100]: 0 batches [00:00, ? batches/s]"
          ],
          "name": "stderr"
        },
        {
          "output_type": "stream",
          "text": [
            "\n",
            "Epoch: 72 (^_^) Time: 0m 43s\tTrain Loss: 1.393 | Train PPL:   4.026\t Val. Loss: 0.351 |  Val. PPL:   1.420\n"
          ],
          "name": "stdout"
        },
        {
          "output_type": "stream",
          "text": [
            "[EPOCH 74/100]: 0 batches [00:00, ? batches/s]"
          ],
          "name": "stderr"
        },
        {
          "output_type": "stream",
          "text": [
            "\n",
            "\t--Found new best val loss\n",
            "\n",
            "Epoch: 73 (^_^) Time: 0m 43s\tTrain Loss: 1.385 | Train PPL:   3.994\t Val. Loss: 0.318 |  Val. PPL:   1.374\n"
          ],
          "name": "stdout"
        },
        {
          "output_type": "stream",
          "text": [
            "[EPOCH 75/100]: 0 batches [00:00, ? batches/s]"
          ],
          "name": "stderr"
        },
        {
          "output_type": "stream",
          "text": [
            "\n",
            "\t--Found new best val loss\n",
            "\n",
            "Epoch: 74 (^_^) Time: 0m 43s\tTrain Loss: 1.376 | Train PPL:   3.959\t Val. Loss: 0.311 |  Val. PPL:   1.365\n"
          ],
          "name": "stdout"
        },
        {
          "output_type": "stream",
          "text": [
            "[EPOCH 76/100]: 0 batches [00:00, ? batches/s]"
          ],
          "name": "stderr"
        },
        {
          "output_type": "stream",
          "text": [
            "\n",
            "\t--Found new best val loss\n",
            "\n",
            "Epoch: 75 (^_^) Time: 0m 43s\tTrain Loss: 1.369 | Train PPL:   3.929\t Val. Loss: 0.308 |  Val. PPL:   1.361\n"
          ],
          "name": "stdout"
        },
        {
          "output_type": "stream",
          "text": [
            "[EPOCH 77/100]: 0 batches [00:00, ? batches/s]"
          ],
          "name": "stderr"
        },
        {
          "output_type": "stream",
          "text": [
            "\n",
            "Epoch: 76 (^_^) Time: 0m 43s\tTrain Loss: 1.358 | Train PPL:   3.889\t Val. Loss: 0.324 |  Val. PPL:   1.383\n"
          ],
          "name": "stdout"
        },
        {
          "output_type": "stream",
          "text": [
            "[EPOCH 78/100]: 0 batches [00:00, ? batches/s]"
          ],
          "name": "stderr"
        },
        {
          "output_type": "stream",
          "text": [
            "\n",
            "\t--Found new best val loss\n",
            "\n",
            "Epoch: 77 (^_^) Time: 0m 43s\tTrain Loss: 1.347 | Train PPL:   3.844\t Val. Loss: 0.303 |  Val. PPL:   1.353\n"
          ],
          "name": "stdout"
        },
        {
          "output_type": "stream",
          "text": [
            "[EPOCH 79/100]: 0 batches [00:00, ? batches/s]"
          ],
          "name": "stderr"
        },
        {
          "output_type": "stream",
          "text": [
            "\n",
            "\t--Found new best val loss\n",
            "\n",
            "Epoch: 78 (^_^) Time: 0m 43s\tTrain Loss: 1.336 | Train PPL:   3.802\t Val. Loss: 0.281 |  Val. PPL:   1.325\n"
          ],
          "name": "stdout"
        },
        {
          "output_type": "stream",
          "text": [
            "[EPOCH 80/100]: 0 batches [00:00, ? batches/s]"
          ],
          "name": "stderr"
        },
        {
          "output_type": "stream",
          "text": [
            "\n",
            "Epoch: 79 (^_^) Time: 0m 43s\tTrain Loss: 1.327 | Train PPL:   3.769\t Val. Loss: 0.281 |  Val. PPL:   1.325\n"
          ],
          "name": "stdout"
        },
        {
          "output_type": "stream",
          "text": [
            "[EPOCH 81/100]: 0 batches [00:00, ? batches/s]"
          ],
          "name": "stderr"
        },
        {
          "output_type": "stream",
          "text": [
            "\n",
            "\t--Found new best val loss\n",
            "\n",
            "Epoch: 80 (^_^) Time: 0m 43s\tTrain Loss: 1.322 | Train PPL:   3.750\t Val. Loss: 0.264 |  Val. PPL:   1.302\n"
          ],
          "name": "stdout"
        },
        {
          "output_type": "stream",
          "text": [
            "[EPOCH 82/100]: 0 batches [00:00, ? batches/s]"
          ],
          "name": "stderr"
        },
        {
          "output_type": "stream",
          "text": [
            "\n",
            "Epoch: 81 (^_^) Time: 0m 43s\tTrain Loss: 1.305 | Train PPL:   3.689\t Val. Loss: 0.269 |  Val. PPL:   1.309\n"
          ],
          "name": "stdout"
        },
        {
          "output_type": "stream",
          "text": [
            "[EPOCH 83/100]: 0 batches [00:00, ? batches/s]"
          ],
          "name": "stderr"
        },
        {
          "output_type": "stream",
          "text": [
            "\n",
            "\t--Found new best val loss\n",
            "\n",
            "Epoch: 82 (^_^) Time: 0m 43s\tTrain Loss: 1.300 | Train PPL:   3.668\t Val. Loss: 0.264 |  Val. PPL:   1.302\n"
          ],
          "name": "stdout"
        },
        {
          "output_type": "stream",
          "text": [
            "[EPOCH 84/100]: 0 batches [00:00, ? batches/s]"
          ],
          "name": "stderr"
        },
        {
          "output_type": "stream",
          "text": [
            "\n",
            "\t--Found new best val loss\n",
            "\n",
            "Epoch: 83 (^_^) Time: 0m 43s\tTrain Loss: 1.291 | Train PPL:   3.637\t Val. Loss: 0.250 |  Val. PPL:   1.284\n"
          ],
          "name": "stdout"
        },
        {
          "output_type": "stream",
          "text": [
            "[EPOCH 85/100]: 0 batches [00:00, ? batches/s]"
          ],
          "name": "stderr"
        },
        {
          "output_type": "stream",
          "text": [
            "\n",
            "Epoch: 84 (^_^) Time: 0m 43s\tTrain Loss: 1.285 | Train PPL:   3.615\t Val. Loss: 0.317 |  Val. PPL:   1.373\n"
          ],
          "name": "stdout"
        },
        {
          "output_type": "stream",
          "text": [
            "[EPOCH 86/100]: 0 batches [00:00, ? batches/s]"
          ],
          "name": "stderr"
        },
        {
          "output_type": "stream",
          "text": [
            "\n",
            "Epoch: 85 (^_^) Time: 0m 43s\tTrain Loss: 1.280 | Train PPL:   3.597\t Val. Loss: 0.275 |  Val. PPL:   1.317\n"
          ],
          "name": "stdout"
        },
        {
          "output_type": "stream",
          "text": [
            "[EPOCH 87/100]: 0 batches [00:00, ? batches/s]"
          ],
          "name": "stderr"
        },
        {
          "output_type": "stream",
          "text": [
            "\n",
            "Epoch: 86 (^_^) Time: 0m 43s\tTrain Loss: 1.272 | Train PPL:   3.569\t Val. Loss: 0.264 |  Val. PPL:   1.302\n"
          ],
          "name": "stdout"
        },
        {
          "output_type": "stream",
          "text": [
            "[EPOCH 88/100]: 0 batches [00:00, ? batches/s]"
          ],
          "name": "stderr"
        },
        {
          "output_type": "stream",
          "text": [
            "\n",
            "Epoch: 87 (^_^) Time: 0m 43s\tTrain Loss: 1.262 | Train PPL:   3.534\t Val. Loss: 0.261 |  Val. PPL:   1.298\n"
          ],
          "name": "stdout"
        },
        {
          "output_type": "stream",
          "text": [
            "[EPOCH 89/100]: 0 batches [00:00, ? batches/s]"
          ],
          "name": "stderr"
        },
        {
          "output_type": "stream",
          "text": [
            "\n",
            "Epoch: 88 (^_^) Time: 0m 43s\tTrain Loss: 1.254 | Train PPL:   3.505\t Val. Loss: 0.260 |  Val. PPL:   1.297\n"
          ],
          "name": "stdout"
        },
        {
          "output_type": "stream",
          "text": [
            "[EPOCH 90/100]: 0 batches [00:00, ? batches/s]"
          ],
          "name": "stderr"
        },
        {
          "output_type": "stream",
          "text": [
            "\n",
            "Epoch: 89 (^_^) Time: 0m 43s\tTrain Loss: 1.252 | Train PPL:   3.496\t Val. Loss: 0.258 |  Val. PPL:   1.294\n"
          ],
          "name": "stdout"
        },
        {
          "output_type": "stream",
          "text": [
            "[EPOCH 91/100]: 0 batches [00:00, ? batches/s]"
          ],
          "name": "stderr"
        },
        {
          "output_type": "stream",
          "text": [
            "\n",
            "\t--Found new best val loss\n",
            "\n",
            "Epoch: 90 (^_^) Time: 0m 43s\tTrain Loss: 1.240 | Train PPL:   3.456\t Val. Loss: 0.237 |  Val. PPL:   1.268\n"
          ],
          "name": "stdout"
        },
        {
          "output_type": "stream",
          "text": [
            "[EPOCH 92/100]: 0 batches [00:00, ? batches/s]"
          ],
          "name": "stderr"
        },
        {
          "output_type": "stream",
          "text": [
            "\n",
            "\t--Found new best val loss\n",
            "\n",
            "Epoch: 91 (^_^) Time: 0m 43s\tTrain Loss: 1.234 | Train PPL:   3.437\t Val. Loss: 0.233 |  Val. PPL:   1.263\n"
          ],
          "name": "stdout"
        },
        {
          "output_type": "stream",
          "text": [
            "[EPOCH 93/100]: 0 batches [00:00, ? batches/s]"
          ],
          "name": "stderr"
        },
        {
          "output_type": "stream",
          "text": [
            "\n",
            "Epoch: 92 (^_^) Time: 0m 43s\tTrain Loss: 1.227 | Train PPL:   3.411\t Val. Loss: 0.252 |  Val. PPL:   1.287\n"
          ],
          "name": "stdout"
        },
        {
          "output_type": "stream",
          "text": [
            "[EPOCH 94/100]: 0 batches [00:00, ? batches/s]"
          ],
          "name": "stderr"
        },
        {
          "output_type": "stream",
          "text": [
            "\n",
            "Epoch: 93 (^_^) Time: 0m 43s\tTrain Loss: 1.226 | Train PPL:   3.407\t Val. Loss: 0.236 |  Val. PPL:   1.266\n"
          ],
          "name": "stdout"
        },
        {
          "output_type": "stream",
          "text": [
            "[EPOCH 95/100]: 0 batches [00:00, ? batches/s]"
          ],
          "name": "stderr"
        },
        {
          "output_type": "stream",
          "text": [
            "\n",
            "\t--Found new best val loss\n",
            "\n",
            "Epoch: 94 (^_^) Time: 0m 43s\tTrain Loss: 1.218 | Train PPL:   3.381\t Val. Loss: 0.225 |  Val. PPL:   1.253\n"
          ],
          "name": "stdout"
        },
        {
          "output_type": "stream",
          "text": [
            "[EPOCH 96/100]: 0 batches [00:00, ? batches/s]"
          ],
          "name": "stderr"
        },
        {
          "output_type": "stream",
          "text": [
            "\n",
            "Epoch: 95 (^_^) Time: 0m 43s\tTrain Loss: 1.208 | Train PPL:   3.348\t Val. Loss: 0.239 |  Val. PPL:   1.270\n"
          ],
          "name": "stdout"
        },
        {
          "output_type": "stream",
          "text": [
            "[EPOCH 97/100]: 0 batches [00:00, ? batches/s]"
          ],
          "name": "stderr"
        },
        {
          "output_type": "stream",
          "text": [
            "\n",
            "\t--Found new best val loss\n",
            "\n",
            "Epoch: 96 (^_^) Time: 0m 43s\tTrain Loss: 1.202 | Train PPL:   3.328\t Val. Loss: 0.225 |  Val. PPL:   1.252\n"
          ],
          "name": "stdout"
        },
        {
          "output_type": "stream",
          "text": [
            "[EPOCH 98/100]: 0 batches [00:00, ? batches/s]"
          ],
          "name": "stderr"
        },
        {
          "output_type": "stream",
          "text": [
            "\n",
            "Epoch: 97 (^_^) Time: 0m 43s\tTrain Loss: 1.196 | Train PPL:   3.306\t Val. Loss: 0.252 |  Val. PPL:   1.287\n"
          ],
          "name": "stdout"
        },
        {
          "output_type": "stream",
          "text": [
            "[EPOCH 99/100]: 0 batches [00:00, ? batches/s]"
          ],
          "name": "stderr"
        },
        {
          "output_type": "stream",
          "text": [
            "\n",
            "\t--Found new best val loss\n",
            "\n",
            "Epoch: 98 (^_^) Time: 0m 42s\tTrain Loss: 1.197 | Train PPL:   3.311\t Val. Loss: 0.211 |  Val. PPL:   1.235\n"
          ],
          "name": "stdout"
        },
        {
          "output_type": "stream",
          "text": [
            "[EPOCH 100/100]: 0 batches [00:00, ? batches/s]"
          ],
          "name": "stderr"
        },
        {
          "output_type": "stream",
          "text": [
            "\n",
            "\t--Found new best val loss\n",
            "\n",
            "Epoch: 99 (^_^) Time: 0m 43s\tTrain Loss: 1.183 | Train PPL:   3.265\t Val. Loss: 0.206 |  Val. PPL:   1.229\n"
          ],
          "name": "stdout"
        },
        {
          "output_type": "stream",
          "text": [
            ""
          ],
          "name": "stderr"
        },
        {
          "output_type": "stream",
          "text": [
            "\n",
            "\t--Found new best val loss\n",
            "\n",
            "Epoch: 100 (^_^) Time: 0m 43s\tTrain Loss: 1.179 | Train PPL:   3.251\t Val. Loss: 0.202 |  Val. PPL:   1.224\n"
          ],
          "name": "stdout"
        }
      ]
    },
    {
      "cell_type": "code",
      "metadata": {
        "id": "BcXp_EwymvH8",
        "colab_type": "code",
        "outputId": "45bf2ad6-d551-4b31-ec40-9ae18774c6af",
        "colab": {
          "base_uri": "https://localhost:8080/",
          "height": 480
        }
      },
      "source": [
        "# plot losses\n",
        "plt.figure(figsize=(5, 3), dpi=160)\n",
        "plt.plot(range(1, N_EPOCHS + 1), train_losses, color='tab:cyan', label='train')\n",
        "plt.plot(range(1, N_EPOCHS + 1), val_losses, color='tab:orange', label='val')\n",
        "plt.ylabel('loss')\n",
        "plt.xlabel('epoch')\n",
        "plt.legend()\n",
        "plt.show()"
      ],
      "execution_count": 43,
      "outputs": [
        {
          "output_type": "display_data",
          "data": {
            "image/png": "[encoded data removed]",
            "text/plain": [
              "<Figure size 800x480 with 1 Axes>"
            ]
          },
          "metadata": {
            "tags": []
          }
        }
      ]
    },
    {
      "cell_type": "code",
      "metadata": {
        "id": "ENZtE4qvS58z",
        "colab_type": "code",
        "outputId": "25e9d760-dc74-40d8-8b07-e886d398b605",
        "colab": {
          "base_uri": "https://localhost:8080/",
          "height": 34
        }
      },
      "source": [
        "model.load_state_dict(torch.load('model.pt'))\n",
        "\n",
        "test_loss = evaluate(model, test_iterator, criterion)\n",
        "\n",
        "print(f'| Test Loss: {test_loss:.3f} | Test PPL: {math.exp(test_loss):7.3f} |')"
      ],
      "execution_count": 44,
      "outputs": [
        {
          "output_type": "stream",
          "text": [
            "                                  "
          ],
          "name": "stderr"
        },
        {
          "output_type": "stream",
          "text": [
            "| Test Loss: 0.202 | Test PPL:   1.224 |\n"
          ],
          "name": "stdout"
        },
        {
          "output_type": "stream",
          "text": [
            "\r"
          ],
          "name": "stderr"
        }
      ]
    },
    {
      "cell_type": "code",
      "metadata": {
        "id": "AvGlBN8qUlo6",
        "colab_type": "code",
        "colab": {}
      },
      "source": [
        "def translate_sentence(sentence, src_field, trg_field, model, device, max_len = 50):\n",
        "    \n",
        "    model.eval()\n",
        "\n",
        "    tokens = [src_field.init_token] + sentence + [src_field.eos_token]\n",
        "        \n",
        "    src_indexes = [src_field.vocab.stoi[token] for token in tokens]\n",
        "\n",
        "    src_tensor = torch.LongTensor(src_indexes).unsqueeze(0).to(device)\n",
        "    \n",
        "    src_mask = model.make_src_mask(src_tensor)\n",
        "    \n",
        "    with torch.no_grad():\n",
        "        enc_src = model.encoder(src_tensor, src_mask)\n",
        "\n",
        "    trg_indexes = [trg_field.vocab.stoi[trg_field.init_token]]\n",
        "\n",
        "    for i in range(max_len):\n",
        "\n",
        "        trg_tensor = torch.LongTensor(trg_indexes).unsqueeze(0).to(device)\n",
        "\n",
        "        trg_mask = model.make_trg_mask(trg_tensor)\n",
        "        \n",
        "        with torch.no_grad():\n",
        "            output, attention = model.decoder(trg_tensor, enc_src, trg_mask, src_mask)\n",
        "        \n",
        "        pred_token = output.argmax(2)[:,-1].item()\n",
        "        \n",
        "        trg_indexes.append(pred_token)\n",
        "\n",
        "        if pred_token == trg_field.vocab.stoi[trg_field.eos_token]:\n",
        "            break\n",
        "    \n",
        "    trg_tokens = [trg_field.vocab.itos[i] for i in trg_indexes]\n",
        "    \n",
        "    return trg_tokens[1:], attention"
      ],
      "execution_count": 0,
      "outputs": []
    },
    {
      "cell_type": "code",
      "metadata": {
        "id": "46fHNxhvDgLD",
        "colab_type": "code",
        "colab": {
          "base_uri": "https://localhost:8080/",
          "height": 34
        },
        "outputId": "bbaef2c9-0a22-4ac8-db8e-72b469dc8260"
      },
      "source": [
        "!ls gdrive/My\\ Drive/EN-OD\\ translation"
      ],
      "execution_count": 107,
      "outputs": [
        {
          "output_type": "stream",
          "text": [
            "data  en-od  od-en  OR51_Ananta.ttf\n"
          ],
          "name": "stdout"
        }
      ]
    },
    {
      "cell_type": "code",
      "metadata": {
        "id": "jntkZvD_Bh7p",
        "colab_type": "code",
        "colab": {}
      },
      "source": [
        "from matplotlib import font_manager as fm\n",
        "fpath = os.path.join('gdrive', 'My Drive', 'EN-OD translation', 'OR51_Ananta.ttf')\n",
        "prop = fm.FontProperties(fname=fpath)"
      ],
      "execution_count": 0,
      "outputs": []
    },
    {
      "cell_type": "code",
      "metadata": {
        "id": "Bh2GQ-imUqFD",
        "colab_type": "code",
        "colab": {}
      },
      "source": [
        "def display_attention(sentence, translation, attention, n_heads = 8, n_rows = 4, n_cols = 2):\n",
        "    \n",
        "    assert n_rows * n_cols == n_heads\n",
        "    \n",
        "    fig = plt.figure(figsize=(15,25))\n",
        "    \n",
        "    for i in range(1, n_heads+1):\n",
        "        \n",
        "        ax = fig.add_subplot(n_rows, n_cols,i)\n",
        "        \n",
        "        _attention = attention.squeeze(0)[i-1].cpu().detach().numpy()\n",
        "\n",
        "        cax = ax.matshow(_attention, cmap='Oranges')\n",
        "\n",
        "        ax.tick_params(labelsize=12)\n",
        "        ax.set_xticklabels(['']+['<sos>']+sentence+['<eos>'], \n",
        "                           rotation=45)\n",
        "        ax.set_yticklabels(['']+translation, fontproperties=prop)\n",
        "\n",
        "        ax.xaxis.set_major_locator(ticker.MultipleLocator(1))\n",
        "        ax.yaxis.set_major_locator(ticker.MultipleLocator(1))\n",
        "\n",
        "    plt.show()\n",
        "    plt.close()"
      ],
      "execution_count": 0,
      "outputs": []
    },
    {
      "cell_type": "code",
      "metadata": {
        "id": "rOJsMVoMUscy",
        "colab_type": "code",
        "outputId": "aa052a5c-b41b-4f0a-faa8-9f1d3e2b56ef",
        "colab": {
          "base_uri": "https://localhost:8080/",
          "height": 51
        }
      },
      "source": [
        "example_idx = 11\n",
        "\n",
        "src = vars(train_data.examples[example_idx])['src']\n",
        "trg = vars(train_data.examples[example_idx])['trg']\n",
        "\n",
        "print(f'src = {src}')\n",
        "print(f'trg = {trg}')"
      ],
      "execution_count": 110,
      "outputs": [
        {
          "output_type": "stream",
          "text": [
            "src = ['▁R', 'ights', '▁Man', 'ager', '▁for', '▁Music']\n",
            "trg = ['▁ସଙ୍ଗୀତ', '▁ପାଇଁ', '▁Right', 's', '▁Man', 'ag', 'er']\n"
          ],
          "name": "stdout"
        }
      ]
    },
    {
      "cell_type": "code",
      "metadata": {
        "id": "2iLU20mWUu-j",
        "colab_type": "code",
        "outputId": "eea608cd-2726-4067-8d7b-66a297e57bfa",
        "colab": {
          "base_uri": "https://localhost:8080/",
          "height": 34
        }
      },
      "source": [
        "translation, attention = translate_sentence(src, SRC, TRG, model, device)\n",
        "\n",
        "print(f'predicted trg = {translation}')"
      ],
      "execution_count": 111,
      "outputs": [
        {
          "output_type": "stream",
          "text": [
            "predicted trg = ['▁ସଙ୍ଗୀତ', '▁ପାଇଁ', '▁Right', 's', '▁Man', 'ag', 'er', '<eos>']\n"
          ],
          "name": "stdout"
        }
      ]
    },
    {
      "cell_type": "code",
      "metadata": {
        "id": "KYianCagU6yY",
        "colab_type": "code",
        "outputId": "c3a1a4dc-7ec5-48c9-bc94-7c67d859d662",
        "colab": {
          "base_uri": "https://localhost:8080/",
          "height": 1000
        }
      },
      "source": [
        "display_attention(src, translation, attention)"
      ],
      "execution_count": 112,
      "outputs": [
        {
          "output_type": "stream",
          "text": [
            "/usr/local/lib/python3.6/dist-packages/matplotlib/backends/backend_agg.py:211: RuntimeWarning: Glyph 9601 missing from current font.\n",
            "  font.set_text(s, 0.0, flags=flags)\n",
            "/usr/local/lib/python3.6/dist-packages/matplotlib/backends/backend_agg.py:180: RuntimeWarning: Glyph 9601 missing from current font.\n",
            "  font.set_text(s, 0, flags=flags)\n"
          ],
          "name": "stderr"
        },
        {
          "output_type": "display_data",
          "data": {
            "image/png": "[encoded data removed]",
            "text/plain": [
              "<Figure size 1080x1800 with 8 Axes>"
            ]
          },
          "metadata": {
            "tags": []
          }
        }
      ]
    },
    {
      "cell_type": "code",
      "metadata": {
        "id": "EiVtZzTUZF9E",
        "colab_type": "code",
        "colab": {}
      },
      "source": [
        "import collections\n",
        "\n",
        "def ngrams_iterator(token_list, ngrams):\n",
        "    \"\"\"Return an iterator that yields the given tokens and their ngrams.\n",
        "    Arguments:\n",
        "        token_list: A list of tokens\n",
        "        ngrams: the number of ngrams.\n",
        "    Examples:\n",
        "        >>> token_list = ['here', 'we', 'are']\n",
        "        >>> list(ngrams_iterator(token_list, 2))\n",
        "        >>> ['here', 'here we', 'we', 'we are', 'are']\n",
        "    \"\"\"\n",
        "\n",
        "    def _get_ngrams(n):\n",
        "        return zip(*[token_list[i:] for i in range(n)])\n",
        "\n",
        "    for x in token_list:\n",
        "        yield x\n",
        "    for n in range(2, ngrams + 1):\n",
        "        for x in _get_ngrams(n):\n",
        "            yield ' '.join(x)\n",
        "\n",
        "\n",
        "def _compute_ngram_counter(tokens, max_n):\n",
        "    \"\"\" Create a Counter with a count of unique n-grams in the tokens list\n",
        "    Arguments:\n",
        "        tokens: a list of tokens (typically a string split on whitespaces)\n",
        "        max_n: the maximum order of n-gram wanted\n",
        "    Outputs:\n",
        "        output: a collections.Counter object with the unique n-grams and their\n",
        "            associated count\n",
        "    Examples:\n",
        "        >>> from torchtext.data.metrics import _compute_ngram_counter\n",
        "        >>> tokens = ['me', 'me', 'you']\n",
        "        >>> _compute_ngram_counter(tokens, 2)\n",
        "            Counter({('me',): 2,\n",
        "             ('you',): 1,\n",
        "             ('me', 'me'): 1,\n",
        "             ('me', 'you'): 1,\n",
        "             ('me', 'me', 'you'): 1})\n",
        "    \"\"\"\n",
        "    assert max_n > 0\n",
        "    ngrams_counter = collections.Counter(tuple(x.split(' '))\n",
        "                                         for x in ngrams_iterator(tokens, max_n))\n",
        "\n",
        "    return ngrams_counter\n",
        "\n",
        "\n",
        "def bleu_score(candidate_corpus, references_corpus, max_n=4, weights=[0.25] * 4):\n",
        "    \"\"\"Computes the BLEU score between a candidate translation corpus and a references\n",
        "    translation corpus. Based on https://www.aclweb.org/anthology/P02-1040.pdf\n",
        "    Arguments:\n",
        "        candidate_corpus: an iterable of candidate translations. Each translation is an\n",
        "            iterable of tokens\n",
        "        references_corpus: an iterable of iterables of reference translations. Each\n",
        "            translation is an iterable of tokens\n",
        "        max_n: the maximum n-gram we want to use. E.g. if max_n=3, we will use unigrams,\n",
        "            bigrams and trigrams\n",
        "        weights: a list of weights used for each n-gram category (uniform by default)\n",
        "    Examples:\n",
        "        >>> from torchtext.data.metrics import bleu_score\n",
        "        >>> candidate_corpus = [['I', 'ate', 'the', 'apple'], ['I', 'did']]\n",
        "        >>> references_corpus = [[['I', 'ate', 'it'], ['I', 'ate', 'apples']],\n",
        "                [['I', 'did']]]\n",
        "        >>> bleu_score(candidate_corpus, references_corpus)\n",
        "            0.7598356856515925\n",
        "    \"\"\"\n",
        "\n",
        "    assert max_n == len(weights), 'Length of the \"weights\" list has be equal to max_n'\n",
        "    assert len(candidate_corpus) == len(references_corpus),\\\n",
        "        'The length of candidate and reference corpus should be the same'\n",
        "\n",
        "    clipped_counts = torch.zeros(max_n)\n",
        "    total_counts = torch.zeros(max_n)\n",
        "    weights = torch.tensor(weights)\n",
        "\n",
        "    candidate_len = 0.0\n",
        "    refs_len = 0.0\n",
        "\n",
        "    for (candidate, refs) in zip(candidate_corpus, references_corpus):\n",
        "        candidate_len += len(candidate)\n",
        "\n",
        "        # Get the length of the reference that's closest in length to the candidate\n",
        "        refs_len_list = [float(len(ref)) for ref in refs]\n",
        "        refs_len += min(refs_len_list, key=lambda x: abs(len(candidate) - x))\n",
        "\n",
        "        reference_counters = _compute_ngram_counter(refs[0], max_n)\n",
        "        for ref in refs[1:]:\n",
        "            reference_counters = reference_counters | _compute_ngram_counter(ref, max_n)\n",
        "\n",
        "        candidate_counter = _compute_ngram_counter(candidate, max_n)\n",
        "\n",
        "        clipped_counter = candidate_counter & reference_counters\n",
        "\n",
        "        for ngram in clipped_counter:\n",
        "            clipped_counts[len(ngram) - 1] += clipped_counter[ngram]\n",
        "\n",
        "        for ngram in candidate_counter:  # TODO: no need to loop through the whole counter\n",
        "            total_counts[len(ngram) - 1] += candidate_counter[ngram]\n",
        "\n",
        "    if min(clipped_counts) == 0:\n",
        "        return 0.0\n",
        "    else:\n",
        "        pn = clipped_counts / total_counts\n",
        "        log_pn = weights * torch.log(pn)\n",
        "        score = torch.exp(sum(log_pn))\n",
        "\n",
        "        bp = math.exp(min(1 - refs_len / candidate_len, 0))\n",
        "\n",
        "        return bp * score.item()"
      ],
      "execution_count": 0,
      "outputs": []
    },
    {
      "cell_type": "code",
      "metadata": {
        "id": "cZXwxQo1U_Ub",
        "colab_type": "code",
        "colab": {}
      },
      "source": [
        "def translate_sentences(data, src_field, trg_field, model, device, max_len = 50):\n",
        "    \n",
        "    trgs = []\n",
        "    pred_trgs = []\n",
        "    \n",
        "    for datum in tqdm(data, unit=' samples'):\n",
        "        \n",
        "        src = vars(datum)['src']\n",
        "        trg = vars(datum)['trg']\n",
        "        \n",
        "        pred_trg, _ = translate_sentence(src, src_field, trg_field, model, device, max_len)\n",
        "        \n",
        "        #cut off <eos> token\n",
        "        pred_trg = pred_trg[:-1]\n",
        "        \n",
        "        trgs.append([trg])\n",
        "        pred_trgs.append(pred_trg)\n",
        "        \n",
        "    return trgs, pred_trgs"
      ],
      "execution_count": 0,
      "outputs": []
    },
    {
      "cell_type": "code",
      "metadata": {
        "id": "Ey3P2WE9ZEu7",
        "colab_type": "code",
        "colab": {
          "base_uri": "https://localhost:8080/",
          "height": 34
        },
        "outputId": "0f0258d3-cde6-4ace-b2ef-0e7f6c82c96e"
      },
      "source": [
        "labels, preds = translate_sentences(test_data, SRC, TRG, model, device)"
      ],
      "execution_count": 64,
      "outputs": [
        {
          "output_type": "stream",
          "text": [
            "100%|██████████| 3922/3922 [02:51<00:00, 22.93 samples/s]\n"
          ],
          "name": "stderr"
        }
      ]
    },
    {
      "cell_type": "code",
      "metadata": {
        "id": "rMy39NT_bj3L",
        "colab_type": "code",
        "colab": {}
      },
      "source": [
        "# !pip install sacrebleu\n",
        "import sacrebleu"
      ],
      "execution_count": 0,
      "outputs": []
    },
    {
      "cell_type": "code",
      "metadata": {
        "id": "owtdQ9xInvhf",
        "colab_type": "code",
        "colab": {}
      },
      "source": [
        "outs = preds\n",
        "refs = labels\n",
        "outs_str = list(map(lambda l: sp_bpe_trg.decode_pieces(l), outs))\n",
        "refs_str = [list(map(lambda l: sp_bpe_trg.decode_pieces(l[0]), refs))]"
      ],
      "execution_count": 0,
      "outputs": []
    },
    {
      "cell_type": "code",
      "metadata": {
        "id": "dm4HHzyHfTLw",
        "colab_type": "code",
        "colab": {
          "base_uri": "https://localhost:8080/",
          "height": 51
        },
        "outputId": "a58d82c7-5fc9-4a13-d705-ca3a3cf7677a"
      },
      "source": [
        "print(f'BLEU score = {bleu_score(outs, refs)*100:.2f}')\n",
        "print(f'SACREBLEU score = {sacrebleu.corpus_bleu(outs_str, refs_str, force=False).score:.2f}')"
      ],
      "execution_count": 70,
      "outputs": [
        {
          "output_type": "stream",
          "text": [
            "BLEU score = 83.58\n",
            "SACREBLEU score = 81.29\n"
          ],
          "name": "stdout"
        }
      ]
    },
    {
      "cell_type": "code",
      "metadata": {
        "id": "48J17jwTkRT4",
        "colab_type": "code",
        "colab": {}
      },
      "source": [
        ""
      ],
      "execution_count": 0,
      "outputs": []
    }
  ]
}