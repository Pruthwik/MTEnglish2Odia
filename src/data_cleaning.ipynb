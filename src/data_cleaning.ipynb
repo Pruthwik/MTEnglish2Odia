{
 "cells": [
  {
   "cell_type": "code",
   "execution_count": 1,
   "metadata": {},
   "outputs": [],
   "source": [
    "import pandas as pd"
   ]
  },
  {
   "cell_type": "code",
   "execution_count": 101,
   "metadata": {},
   "outputs": [],
   "source": [
    "file_location = '../data/output/output_partially_curated _review_in-progress.csv'\n",
    "output_file_location = '../data/output/small_pairs.csv'"
   ]
  },
  {
   "cell_type": "code",
   "execution_count": 7,
   "metadata": {},
   "outputs": [],
   "source": [
    "df = pd.read_csv(file_location)"
   ]
  },
  {
   "cell_type": "code",
   "execution_count": 8,
   "metadata": {},
   "outputs": [
    {
     "data": {
      "text/html": [
       "<div>\n",
       "<style scoped>\n",
       "    .dataframe tbody tr th:only-of-type {\n",
       "        vertical-align: middle;\n",
       "    }\n",
       "\n",
       "    .dataframe tbody tr th {\n",
       "        vertical-align: top;\n",
       "    }\n",
       "\n",
       "    .dataframe thead th {\n",
       "        text-align: right;\n",
       "    }\n",
       "</style>\n",
       "<table border=\"1\" class=\"dataframe\">\n",
       "  <thead>\n",
       "    <tr style=\"text-align: right;\">\n",
       "      <th></th>\n",
       "      <th>English</th>\n",
       "      <th>Odia</th>\n",
       "    </tr>\n",
       "  </thead>\n",
       "  <tbody>\n",
       "    <tr>\n",
       "      <th>0</th>\n",
       "      <td>He was awarded the Padma Sri in 1982.</td>\n",
       "      <td>ସୟଦ କିରିମାନୀ ଭରତ ସରକାର ଙ୍କ ଦ୍ଵାରା ପଦ୍ମଶ୍ରୀ ଉପା...</td>\n",
       "    </tr>\n",
       "    <tr>\n",
       "      <th>1</th>\n",
       "      <td>Bishan Singh Bedi  pronunciation (help·info) (...</td>\n",
       "      <td>ପୂର୍ବତନ ଭାରତୀୟ ସ୍ପିନ ବୋଲର ବିଶନ ସିଂ ବେଦି ୨୫ ସେପ...</td>\n",
       "    </tr>\n",
       "    <tr>\n",
       "      <th>2</th>\n",
       "      <td>In Indian domestic cricket, Bedi first played ...</td>\n",
       "      <td>ମାତ୍ର ୧୫ ବର୍ଷ ବଯଶ ରେ ବେଦି ଘରେଇ କ୍ରିକେଟ ରେ ପଦ ଦ...</td>\n",
       "    </tr>\n",
       "    <tr>\n",
       "      <th>3</th>\n",
       "      <td>His bowling has been described as graceful, ev...</td>\n",
       "      <td>ତାଙ୍କର ସ୍ପିନ ବୋଲିଂ ର ଶୈଳୀ କୁ ଖୁବ ସୁନ୍ଦର ବୋଲି କ...</td>\n",
       "    </tr>\n",
       "    <tr>\n",
       "      <th>4</th>\n",
       "      <td>His best Test bowling was 7/98 against Austral...</td>\n",
       "      <td>ତାଙ୍କର ଶ୍ରେଷ୍ଠ ବୋଲିଂ ଥିଲା ଅଷ୍ଟ୍ରେଲିଆ ବିପକ୍ଷୀ ର...</td>\n",
       "    </tr>\n",
       "  </tbody>\n",
       "</table>\n",
       "</div>"
      ],
      "text/plain": [
       "                                             English  \\\n",
       "0              He was awarded the Padma Sri in 1982.   \n",
       "1  Bishan Singh Bedi  pronunciation (help·info) (...   \n",
       "2  In Indian domestic cricket, Bedi first played ...   \n",
       "3  His bowling has been described as graceful, ev...   \n",
       "4  His best Test bowling was 7/98 against Austral...   \n",
       "\n",
       "                                                Odia  \n",
       "0  ସୟଦ କିରିମାନୀ ଭରତ ସରକାର ଙ୍କ ଦ୍ଵାରା ପଦ୍ମଶ୍ରୀ ଉପା...  \n",
       "1  ପୂର୍ବତନ ଭାରତୀୟ ସ୍ପିନ ବୋଲର ବିଶନ ସିଂ ବେଦି ୨୫ ସେପ...  \n",
       "2  ମାତ୍ର ୧୫ ବର୍ଷ ବଯଶ ରେ ବେଦି ଘରେଇ କ୍ରିକେଟ ରେ ପଦ ଦ...  \n",
       "3  ତାଙ୍କର ସ୍ପିନ ବୋଲିଂ ର ଶୈଳୀ କୁ ଖୁବ ସୁନ୍ଦର ବୋଲି କ...  \n",
       "4  ତାଙ୍କର ଶ୍ରେଷ୍ଠ ବୋଲିଂ ଥିଲା ଅଷ୍ଟ୍ରେଲିଆ ବିପକ୍ଷୀ ର...  "
      ]
     },
     "execution_count": 8,
     "metadata": {},
     "output_type": "execute_result"
    }
   ],
   "source": [
    "df.head()"
   ]
  },
  {
   "cell_type": "code",
   "execution_count": 13,
   "metadata": {},
   "outputs": [
    {
     "data": {
      "text/plain": [
       "English    11096\n",
       " Odia      11115\n",
       "dtype: int64"
      ]
     },
     "execution_count": 13,
     "metadata": {},
     "output_type": "execute_result"
    }
   ],
   "source": [
    "df.count()"
   ]
  },
  {
   "cell_type": "code",
   "execution_count": 14,
   "metadata": {},
   "outputs": [],
   "source": [
    "ignore_sentences = ['see also', \n",
    "                    'external links', \n",
    "                    'references', \n",
    "                    'awards', \n",
    "                    'further reading',\n",
    "                    'awards and nominations',\n",
    "                    'notes',\n",
    "                    'career',\n",
    "                    'gallery',\n",
    "                    'history',\n",
    "                    'books',\n",
    "                    'filmography'\n",
    "                   ]"
   ]
  },
  {
   "cell_type": "code",
   "execution_count": 24,
   "metadata": {},
   "outputs": [
    {
     "data": {
      "text/plain": [
       "0                he was awarded the padma sri in 1982.\n",
       "1    bishan singh bedi  pronunciation (help·info) (...\n",
       "2    in indian domestic cricket, bedi first played ...\n",
       "3    his bowling has been described as graceful, ev...\n",
       "4    his best test bowling was 7/98 against austral...\n",
       "Name: English, dtype: object"
      ]
     },
     "execution_count": 24,
     "metadata": {},
     "output_type": "execute_result"
    }
   ],
   "source": [
    "df['English'].str.lower().head()"
   ]
  },
  {
   "cell_type": "code",
   "execution_count": 35,
   "metadata": {},
   "outputs": [
    {
     "data": {
      "text/plain": [
       "5012"
      ]
     },
     "execution_count": 35,
     "metadata": {},
     "output_type": "execute_result"
    }
   ],
   "source": [
    "# df.drop([text for text in df['English'].astype('str') if len(text) > 100]\n"
   ]
  },
  {
   "cell_type": "code",
   "execution_count": 109,
   "metadata": {},
   "outputs": [],
   "source": [
    "new_df = df.drop(df[df['English'].astype('str').map(len) > 30].index)"
   ]
  },
  {
   "cell_type": "code",
   "execution_count": 110,
   "metadata": {},
   "outputs": [],
   "source": [
    "new_df.reset_index(drop=True, inplace=True)"
   ]
  },
  {
   "cell_type": "code",
   "execution_count": 111,
   "metadata": {},
   "outputs": [
    {
     "data": {
      "text/html": [
       "<div>\n",
       "<style scoped>\n",
       "    .dataframe tbody tr th:only-of-type {\n",
       "        vertical-align: middle;\n",
       "    }\n",
       "\n",
       "    .dataframe tbody tr th {\n",
       "        vertical-align: top;\n",
       "    }\n",
       "\n",
       "    .dataframe thead th {\n",
       "        text-align: right;\n",
       "    }\n",
       "</style>\n",
       "<table border=\"1\" class=\"dataframe\">\n",
       "  <thead>\n",
       "    <tr style=\"text-align: right;\">\n",
       "      <th></th>\n",
       "      <th>English</th>\n",
       "      <th>Odia</th>\n",
       "    </tr>\n",
       "  </thead>\n",
       "  <tbody>\n",
       "    <tr>\n",
       "      <th>0</th>\n",
       "      <td>Controversy</td>\n",
       "      <td>ବିବାଦୀୟ ବ୍ୟକ୍ତିତ୍ବ</td>\n",
       "    </tr>\n",
       "    <tr>\n",
       "      <th>1</th>\n",
       "      <td>Coaching</td>\n",
       "      <td>ତାଲିମଦାତା</td>\n",
       "    </tr>\n",
       "    <tr>\n",
       "      <th>2</th>\n",
       "      <td>Records</td>\n",
       "      <td>ବିଶ୍ଵ ରେକର୍ଡ</td>\n",
       "    </tr>\n",
       "    <tr>\n",
       "      <th>3</th>\n",
       "      <td>Personal life</td>\n",
       "      <td>ବ୍ୟକ୍ତିଗତ ଜୀବନ</td>\n",
       "    </tr>\n",
       "    <tr>\n",
       "      <th>4</th>\n",
       "      <td>Bishan Singh Bedi</td>\n",
       "      <td>ବିଶନ ସିଂ ବେଦି</td>\n",
       "    </tr>\n",
       "  </tbody>\n",
       "</table>\n",
       "</div>"
      ],
      "text/plain": [
       "             English                 Odia\n",
       "0        Controversy  ବିବାଦୀୟ ବ୍ୟକ୍ତିତ୍ବ \n",
       "1           Coaching            ତାଲିମଦାତା\n",
       "2            Records        ବିଶ୍ଵ ରେକର୍ଡ \n",
       "3      Personal life      ବ୍ୟକ୍ତିଗତ ଜୀବନ \n",
       "4  Bishan Singh Bedi        ବିଶନ ସିଂ ବେଦି"
      ]
     },
     "execution_count": 111,
     "metadata": {},
     "output_type": "execute_result"
    }
   ],
   "source": [
    "new_df.head()"
   ]
  },
  {
   "cell_type": "code",
   "execution_count": 112,
   "metadata": {},
   "outputs": [],
   "source": [
    "# [x for x in new_df['English'].astype('str').str.lower() if x not in ignore_sentences]"
   ]
  },
  {
   "cell_type": "code",
   "execution_count": 113,
   "metadata": {},
   "outputs": [
    {
     "data": {
      "text/plain": [
       "English    5139\n",
       " Odia      5158\n",
       "dtype: int64"
      ]
     },
     "execution_count": 113,
     "metadata": {},
     "output_type": "execute_result"
    }
   ],
   "source": [
    "new_df.count()"
   ]
  },
  {
   "cell_type": "code",
   "execution_count": 114,
   "metadata": {},
   "outputs": [],
   "source": [
    "new_df.drop_duplicates(subset='English', inplace=True)"
   ]
  },
  {
   "cell_type": "code",
   "execution_count": 115,
   "metadata": {},
   "outputs": [
    {
     "data": {
      "text/plain": [
       "English    1910\n",
       " Odia      1911\n",
       "dtype: int64"
      ]
     },
     "execution_count": 115,
     "metadata": {},
     "output_type": "execute_result"
    }
   ],
   "source": [
    "new_df.count()"
   ]
  },
  {
   "cell_type": "code",
   "execution_count": 116,
   "metadata": {},
   "outputs": [],
   "source": [
    "new_df.to_csv(output_file_location)"
   ]
  },
  {
   "cell_type": "code",
   "execution_count": null,
   "metadata": {},
   "outputs": [],
   "source": []
  }
 ],
 "metadata": {
  "kernelspec": {
   "display_name": "Python 3",
   "language": "python",
   "name": "python3"
  },
  "language_info": {
   "codemirror_mode": {
    "name": "ipython",
    "version": 3
   },
   "file_extension": ".py",
   "mimetype": "text/x-python",
   "name": "python",
   "nbconvert_exporter": "python",
   "pygments_lexer": "ipython3",
   "version": "3.7.0"
  }
 },
 "nbformat": 4,
 "nbformat_minor": 2
}
