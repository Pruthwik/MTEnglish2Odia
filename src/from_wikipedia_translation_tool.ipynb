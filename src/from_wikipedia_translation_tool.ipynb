{
 "cells": [
  {
   "cell_type": "code",
   "execution_count": 1,
   "metadata": {},
   "outputs": [],
   "source": [
    "import json\n",
    "import pandas as pd\n",
    "\n",
    "from collections import defaultdict as dd\n",
    "from character_mapping import MATRA # Odia language specific"
   ]
  },
  {
   "cell_type": "code",
   "execution_count": 2,
   "metadata": {},
   "outputs": [],
   "source": [
    "# Path varibales\n",
    "import os\n",
    "input_data_path = os.path.join(os.path.dirname(os.getcwd()), 'data', 'input')\n",
    "output_data_path = os.path.join(os.path.dirname(os.getcwd()), 'data', 'output')\n",
    "wiki_file_path = os.path.join(input_data_path, 'cx-corpora.en2or.text_june_2019.json')"
   ]
  },
  {
   "cell_type": "code",
   "execution_count": 3,
   "metadata": {},
   "outputs": [],
   "source": [
    "# File got from, https://dumps.wikimedia.org/other/contenttranslation/\n",
    "with open(wiki_file_path, 'r', encoding='utf-8') as json_file:\n",
    "    json_data = json.loads(json_file.read())"
   ]
  },
  {
   "cell_type": "code",
   "execution_count": 4,
   "metadata": {},
   "outputs": [
    {
     "data": {
      "text/plain": [
       "\"\\n# dict_keys(['id', 'sourceLanguage', 'targetLanguage', 'source', 'mt', 'target'])\\n#for i in range(2):\\n#    print(json_data[-i])\\n\\nSample JSON file:\\n{'id': '110783/mwCA', 'sourceLanguage': 'en', 'targetLanguage': 'or', 'source': {'content': 'View of Raj Path, from Raisina Hill, with India Gate at its end'}, 'mt': None, 'target': {'content': '+ ଅନୁବାଦ ଯୋଗକରନ୍ତୁ'}}\\n\""
      ]
     },
     "execution_count": 4,
     "metadata": {},
     "output_type": "execute_result"
    }
   ],
   "source": [
    "\"\"\"\n",
    "# dict_keys(['id', 'sourceLanguage', 'targetLanguage', 'source', 'mt', 'target'])\n",
    "#for i in range(2):\n",
    "#    print(json_data[-i])\n",
    "\n",
    "Sample JSON file:\n",
    "{'id': '110783/mwCA', 'sourceLanguage': 'en', 'targetLanguage': 'or', 'source': {'content': 'View of Raj Path, from Raisina Hill, with India Gate at its end'}, 'mt': None, 'target': {'content': '+ ଅନୁବାଦ ଯୋଗକରନ୍ତୁ'}}\n",
    "\"\"\""
   ]
  },
  {
   "cell_type": "code",
   "execution_count": 5,
   "metadata": {},
   "outputs": [],
   "source": [
    "pd_dict = dd(list)"
   ]
  },
  {
   "cell_type": "code",
   "execution_count": 6,
   "metadata": {},
   "outputs": [],
   "source": [
    "for each_dict in json_data:\n",
    "    try:\n",
    "        or_content = each_dict.get('target', 'NA').get('content', '')\n",
    "        if any(matra in or_content for matra in MATRA) and or_content.strip() != \"+ ଅନୁବାଦ ଯୋଗକରନ୍ତୁ\":\n",
    "            pd_dict[each_dict.get('sourceLanguage', 'NA')].append(each_dict.get('source', 'NA').get('content', ''))\n",
    "            pd_dict[each_dict.get('targetLanguage', 'NA')].append(or_content)\n",
    "    except Exception as error_message:\n",
    "        # Getting some issues while encoding need to look deeper\n",
    "        pass"
   ]
  },
  {
   "cell_type": "code",
   "execution_count": 7,
   "metadata": {},
   "outputs": [
    {
     "data": {
      "text/html": [
       "<div>\n",
       "<style scoped>\n",
       "    .dataframe tbody tr th:only-of-type {\n",
       "        vertical-align: middle;\n",
       "    }\n",
       "\n",
       "    .dataframe tbody tr th {\n",
       "        vertical-align: top;\n",
       "    }\n",
       "\n",
       "    .dataframe thead th {\n",
       "        text-align: right;\n",
       "    }\n",
       "</style>\n",
       "<table border=\"1\" class=\"dataframe\">\n",
       "  <thead>\n",
       "    <tr style=\"text-align: right;\">\n",
       "      <th></th>\n",
       "      <th>en</th>\n",
       "      <th>or</th>\n",
       "    </tr>\n",
       "  </thead>\n",
       "  <tbody>\n",
       "    <tr>\n",
       "      <th>0</th>\n",
       "      <td>Otto H. Königsberger (13 October 1908 – 3 Janu...</td>\n",
       "      <td>ଓଟୋ କୋନିଙ୍ଗ୍ସବର୍ଗର (୧୨ ଅକ୍ଟୋବର ୧୯୦୮ – ୩ ଜାନୁଆର...</td>\n",
       "    </tr>\n",
       "    <tr>\n",
       "      <th>1</th>\n",
       "      <td>Bibliography</td>\n",
       "      <td>ପ୍ରକାଶନ</td>\n",
       "    </tr>\n",
       "    <tr>\n",
       "      <th>2</th>\n",
       "      <td>References</td>\n",
       "      <td>ଆଧାର</td>\n",
       "    </tr>\n",
       "    <tr>\n",
       "      <th>3</th>\n",
       "      <td>The small intestine or small bowel is the part...</td>\n",
       "      <td>ଅନ୍ତ The small intestine or small bowel is the...</td>\n",
       "    </tr>\n",
       "    <tr>\n",
       "      <th>4</th>\n",
       "      <td>External links</td>\n",
       "      <td>ବାହାର ଲିଙ୍କ</td>\n",
       "    </tr>\n",
       "  </tbody>\n",
       "</table>\n",
       "</div>"
      ],
      "text/plain": [
       "                                                  en  \\\n",
       "0  Otto H. Königsberger (13 October 1908 – 3 Janu...   \n",
       "1                                       Bibliography   \n",
       "2                                         References   \n",
       "3  The small intestine or small bowel is the part...   \n",
       "4                                     External links   \n",
       "\n",
       "                                                  or  \n",
       "0  ଓଟୋ କୋନିଙ୍ଗ୍ସବର୍ଗର (୧୨ ଅକ୍ଟୋବର ୧୯୦୮ – ୩ ଜାନୁଆର...  \n",
       "1                                            ପ୍ରକାଶନ  \n",
       "2                                               ଆଧାର  \n",
       "3  ଅନ୍ତ The small intestine or small bowel is the...  \n",
       "4                                        ବାହାର ଲିଙ୍କ  "
      ]
     },
     "execution_count": 7,
     "metadata": {},
     "output_type": "execute_result"
    }
   ],
   "source": [
    "d = pd.DataFrame(data=pd_dict)\n",
    "d.head()"
   ]
  },
  {
   "cell_type": "code",
   "execution_count": 8,
   "metadata": {},
   "outputs": [],
   "source": [
    "d.drop_duplicates(keep=\"last\", inplace=True)"
   ]
  },
  {
   "cell_type": "code",
   "execution_count": 9,
   "metadata": {},
   "outputs": [],
   "source": [
    "d.to_csv(os.path.join(output_data_path, 'output_partially_curated_june_2019.csv'), index=False)"
   ]
  },
  {
   "cell_type": "code",
   "execution_count": null,
   "metadata": {},
   "outputs": [],
   "source": []
  }
 ],
 "metadata": {
  "kernelspec": {
   "display_name": "Python 3",
   "language": "python",
   "name": "python3"
  },
  "language_info": {
   "codemirror_mode": {
    "name": "ipython",
    "version": 3
   },
   "file_extension": ".py",
   "mimetype": "text/x-python",
   "name": "python",
   "nbconvert_exporter": "python",
   "pygments_lexer": "ipython3",
   "version": "3.7.0"
  }
 },
 "nbformat": 4,
 "nbformat_minor": 2
}
